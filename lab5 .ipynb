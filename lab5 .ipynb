{
 "cells": [
  {
   "cell_type": "markdown",
   "id": "2cf68371",
   "metadata": {},
   "source": [
    "Regex:"
   ]
  },
  {
   "cell_type": "code",
   "execution_count": 8,
   "id": "d3294633",
   "metadata": {},
   "outputs": [
    {
     "name": "stdout",
     "output_type": "stream",
     "text": [
      "ananas\n",
      "exist\n"
     ]
    }
   ],
   "source": [
    "#1 Write a Python program that matches a string that has an 'a' followed by zero or more 'b''s.\n",
    "import re\n",
    "task1 = re.compile(r'ab*')\n",
    "result = task1.search(input())\n",
    "print('exist') if result != None else print(None)"
   ]
  },
  {
   "cell_type": "code",
   "execution_count": 14,
   "id": "efd88d5a",
   "metadata": {},
   "outputs": [
    {
     "name": "stdout",
     "output_type": "stream",
     "text": [
      "abbbkd\n",
      "exist\n"
     ]
    }
   ],
   "source": [
    "#2 Write a Python program that matches a string that has an 'a' followed by two to three 'b'.\n",
    "import re\n",
    "task2 = re.compile(r'ab{2,3}[^b]')\n",
    "result = task2.search(input())\n",
    "print('exist') if result != None else print(None)"
   ]
  },
  {
   "cell_type": "code",
   "execution_count": 18,
   "id": "f28e125e",
   "metadata": {},
   "outputs": [
    {
     "name": "stdout",
     "output_type": "stream",
     "text": [
      "AslGajk\n",
      "['sl', 'ajk']\n"
     ]
    }
   ],
   "source": [
    "#3 Write a Python program to find sequences of lowercase letters joined with a underscore.\n",
    "import re\n",
    "task3 = re.compile(r'[a-z_]+')\n",
    "result = task3.findall(input())\n",
    "print(result)"
   ]
  },
  {
   "cell_type": "code",
   "execution_count": 19,
   "id": "f19bfea7",
   "metadata": {},
   "outputs": [
    {
     "name": "stdout",
     "output_type": "stream",
     "text": [
      "AldssknNsjdK\n",
      "['Aldsskn', 'Nsjd']\n"
     ]
    }
   ],
   "source": [
    "#4 Write a Python program to find the sequences of one upper case letter followed by lower case letters.\n",
    "import re\n",
    "task4 = re.compile(r'[A-Z]{1}[a-z]+')\n",
    "result = task4.findall(input())\n",
    "print(result)"
   ]
  },
  {
   "cell_type": "code",
   "execution_count": 21,
   "id": "c1c498ce",
   "metadata": {},
   "outputs": [
    {
     "name": "stdout",
     "output_type": "stream",
     "text": [
      "karallab\n",
      "exist\n"
     ]
    }
   ],
   "source": [
    "#5 Write a Python program that matches a string that has an 'a' followed by anything, ending in 'b'.\n",
    "import re\n",
    "task5 = re.compile(r'a.+b\\Z')\n",
    "result = task5.search(input())\n",
    "print('exist') if result != None else print(None)"
   ]
  },
  {
   "cell_type": "code",
   "execution_count": 22,
   "id": "f76ef9e0",
   "metadata": {},
   "outputs": [
    {
     "name": "stdout",
     "output_type": "stream",
     "text": [
      "you are so cute\n",
      "you:are:so:cute\n"
     ]
    }
   ],
   "source": [
    "#6 Write a Python program to replace all occurrences of space, comma, or dot with a colon.\n",
    "import re\n",
    "task6 = re.compile(r'[ .,]')\n",
    "result = task6.sub(\":\", input())\n",
    "print(result)"
   ]
  },
  {
   "cell_type": "code",
   "execution_count": 38,
   "id": "c51f91b9",
   "metadata": {},
   "outputs": [
    {
     "name": "stdout",
     "output_type": "stream",
     "text": [
      "netWork\n",
      "netWork\n"
     ]
    }
   ],
   "source": [
    "#7 Write a python program to convert snake case string to camel case string.\n",
    "import re\n",
    "task7 = re.compile(r'_.')\n",
    "n = input()\n",
    "all_ = task7.findall(n)\n",
    "for i in all_:\n",
    "    n = task7.sub(i[1].upper(), n, 1)\n",
    "print(n)"
   ]
  },
  {
   "cell_type": "code",
   "execution_count": 32,
   "id": "4614a8e7",
   "metadata": {},
   "outputs": [
    {
     "name": "stdout",
     "output_type": "stream",
     "text": [
      "AlmaHjak\n",
      "['', 'lma', 'jak']\n"
     ]
    }
   ],
   "source": [
    "#8 Write a Python program to split a string at uppercase letters.\n",
    "import re\n",
    "task8 = re.compile(r'[A-Z]')\n",
    "n = input()\n",
    "print(task8.split(n))"
   ]
  },
  {
   "cell_type": "code",
   "execution_count": 34,
   "id": "0389b3ad",
   "metadata": {},
   "outputs": [
    {
     "name": "stdout",
     "output_type": "stream",
     "text": [
      "IDoMyHomework\n",
      " I Do My Homework\n"
     ]
    }
   ],
   "source": [
    "#9 Write a Python program to insert spaces between words starting with capital letters.\n",
    "import re\n",
    "task9 = re.compile(r'[A-Z]')\n",
    "n = input()\n",
    "allup = task9.findall(n)\n",
    "allword = task9.split(n)\n",
    "sen = allword[0]\n",
    "for i in range(len(allup)):\n",
    "    sen += \" \" + allup[i] + allword[i+1]\n",
    "print(sen)"
   ]
  },
  {
   "cell_type": "code",
   "execution_count": 35,
   "id": "b900e576",
   "metadata": {},
   "outputs": [
    {
     "name": "stdout",
     "output_type": "stream",
     "text": [
      "hjkknLjhkj\n",
      "hjkkn_ljhkj\n"
     ]
    }
   ],
   "source": [
    "#10 Write a Python program to convert a given camel case string to snake case.\n",
    "import re\n",
    "task10 = re.compile(r'[A-Z]')\n",
    "n = input()\n",
    "all_ = task10.findall(n)\n",
    "for i in all_:\n",
    "    n = task10.sub('_' + i.lower(), n, 1)\n",
    "print(n)"
   ]
  },
  {
   "cell_type": "markdown",
   "id": "f7401b5c",
   "metadata": {},
   "source": [
    "row task"
   ]
  },
  {
   "cell_type": "markdown",
   "id": "9ffda155",
   "metadata": {},
   "source": [
    "ДУБЛИКАТ\n",
    "Филиал ТОО EUROPHARMA Астана\n",
    "БИН 080841000761\n",
    "НДС Серия 58001\n",
    " № 0014377\n",
    "Касса 300-189\n",
    "Смена 10\n",
    "Порядковый номер чека №64\n",
    "Чек №2331180266\n",
    "Кассир Аптека 17-1\n",
    "ПРОДАЖА\n",
    "1.\n",
    "Натрия хлорид 0,9%, 200 мл, фл\n",
    "2,000 x 154,00\n",
    "308,00\n",
    "Стоимость\n",
    "308,00\n",
    "2.\n",
    "Борный спирт 3%, 20 мл, фл.\n",
    "1,000 x 51,00\n",
    "51,00\n",
    "Стоимость\n",
    "51,00\n",
    "3.\n",
    "Шприц 2 мл, 3-х комп. (Bioject)\n",
    "2,000 x 16,00\n",
    "32,00\n",
    "Стоимость\n",
    "32,00\n",
    "4.\n",
    "Система для инфузии Vogt Medical\n",
    "2,000 x 60,00\n",
    "120,00\n",
    "Стоимость\n",
    "120,00\n",
    "5.\n",
    "Naturella прокладки Классик макси №8\n",
    "1,000 x 310,00\n",
    "310,00\n",
    "Стоимость\n",
    "310,00\n",
    "6.\n",
    "AURA Ватные диски №150\n",
    "1,000 x 461,00\n",
    "461,00\n",
    "Стоимость\n",
    "461,00\n",
    "7.\n",
    "Чистая линия скраб мягкий 50 мл\n",
    "1,000 x 381,00\n",
    "381,00\n",
    "Стоимость\n",
    "381,00\n",
    "8.\n",
    "Чистая линия  скраб очищающийабрикос 50 мл\n",
    "1,000 x 386,00\n",
    "386,00\n",
    "Стоимость\n",
    "386,00\n",
    "9.\n",
    "Чистая линия скраб мягкий 50 мл\n",
    "1,000 x 381,00\n",
    "381,00\n",
    "Стоимость\n",
    "381,00\n",
    "10.\n",
    "Carefree салфетки Алоэвоздухопроницаемые №20\n",
    "1,000 x 414,00\n",
    "414,00\n",
    "Стоимость\n",
    "414,00\n",
    "11.\n",
    "Pro Series Шампунь яркий цвет 500мл\n",
    "1,000 x 841,00\n",
    "841,00\n",
    "Стоимость\n",
    "841,00\n",
    "12.\n",
    "Pro Series бальзам-ополаскивательдля длител ухода за окрашеннымиволосами Яркий цвет 500мл\n",
    "1,000 x 841,00\n",
    "841,00\n",
    "Стоимость\n",
    "841,00\n",
    "13.\n",
    "Clear шампунь Актив спорт 2в1мужской  400 мл\n",
    "1,000 x 1 200,00\n",
    "1 200,00\n",
    "Стоимость\n",
    "1 200,00\n",
    "14.\n",
    "Bio World (HYDRO THERAPY)Мицеллярная вода 5в1, 445мл\n",
    "1,000 x 1 152,00\n",
    "1 152,00\n",
    "Стоимость\n",
    "1 152,00\n",
    "15.\n",
    "Bio World (HYDRO THERAPY) Гель-муссдля умывания с гиалуроновойкислотой, 250мл\n",
    "1,000 x 1 152,00\n",
    "1 152,00\n",
    "Стоимость\n",
    "1 152,00\n",
    "16.\n",
    "[RX]-Натрия хлорид 0,9%, 100 мл, фл.\n",
    "1,000 x 168,00\n",
    "168,00\n",
    "Стоимость\n",
    "168,00\n",
    "17.\n",
    "[RX]-Дисоль р-р 400 мл, фл.\n",
    "1,000 x 163,00\n",
    "163,00\n",
    "Стоимость\n",
    "163,00\n",
    "18.\n",
    "Тагансорбент с иономи серебра №30,пор.\n",
    "1,000 x 1 526,00\n",
    "1 526,00\n",
    "Стоимость\n",
    "1 526,00\n",
    "19.\n",
    "[RX]-Церукал 2%, 2 мл, №10, амп.\n",
    "2,000 x 396,00\n",
    "792,00\n",
    "Стоимость\n",
    "792,00\n",
    "20.\n",
    "[RX]-Андазол 200 мг, №40, табл.\n",
    "1,000 x 7 330,00\n",
    "7 330,00\n",
    "Стоимость\n",
    "7 330,00\n",
    "Банковская карта:\n",
    "18 009,00\n",
    "ИТОГО:\n",
    "18 009,00\n",
    "в т.ч. НДС 12%:\n",
    "0,00\n",
    "Фискальный признак:\n",
    "2331180266\n",
    "Время: 18.04.2019 11:13:58\n",
    "г. Нур-султан,Казахстан, Мангилик Ел,19, нп-5\n",
    "Оператор фискальных данных: АО\"Казахтелеком\"Для проверки чека зайдите на сайт:consumer.oofd.kz\n",
    "ФИСКАЛЬНЫЙ ЧЕК\n",
    "ФП\n",
    "ИНК ОФД: 311559\n",
    "Код ККМ КГД (РНМ): 620300145316\n",
    "ЗНМ: SWK00034961\n",
    "WEBKASSA.KZ"
   ]
  },
  {
   "cell_type": "code",
   "execution_count": null,
   "id": "3ca58263",
   "metadata": {},
   "outputs": [],
   "source": [
    "import re\n",
    "for i in open('row.txt', encoding=\"UTF-8\"):\n",
    "    disol = re.findall(r'.+Дисоль.+', i)\n",
    "    if disol != []:\n",
    "        print(disol)\n",
    "    bin = re.findall(r'БИН (\\w+)', i)\n",
    "    if bin != []:\n",
    "        print(bin)"
   ]
  }
 ],
 "metadata": {
  "kernelspec": {
   "display_name": "Python 3 (ipykernel)",
   "language": "python",
   "name": "python3"
  },
  "language_info": {
   "codemirror_mode": {
    "name": "ipython",
    "version": 3
   },
   "file_extension": ".py",
   "mimetype": "text/x-python",
   "name": "python",
   "nbconvert_exporter": "python",
   "pygments_lexer": "ipython3",
   "version": "3.9.13"
  }
 },
 "nbformat": 4,
 "nbformat_minor": 5
}
