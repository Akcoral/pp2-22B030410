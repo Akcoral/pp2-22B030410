{
 "cells": [
  {
   "cell_type": "markdown",
   "id": "c971f447",
   "metadata": {},
   "source": [
    "syntax1"
   ]
  },
  {
   "cell_type": "code",
   "execution_count": 1,
   "id": "dff49a31",
   "metadata": {},
   "outputs": [
    {
     "name": "stdout",
     "output_type": "stream",
     "text": [
      "Hello World\n"
     ]
    }
   ],
   "source": [
    "print(\"Hello World\")"
   ]
  },
  {
   "cell_type": "markdown",
   "id": "8ad1c3ef",
   "metadata": {},
   "source": [
    "syntax2"
   ]
  },
  {
   "cell_type": "code",
   "execution_count": 2,
   "id": "29e1cb12",
   "metadata": {},
   "outputs": [
    {
     "name": "stdout",
     "output_type": "stream",
     "text": [
      "Five is greater than two!\n"
     ]
    }
   ],
   "source": [
    "if 5 > 2:\n",
    "  print(\"Five is greater than two\")\n",
    "else:\n",
    "    print(\"\")"
   ]
  },
  {
   "cell_type": "markdown",
   "id": "cd3eb785",
   "metadata": {},
   "source": [
    "comments1"
   ]
  },
  {
   "cell_type": "code",
   "execution_count": 4,
   "id": "041a44dd",
   "metadata": {},
   "outputs": [],
   "source": [
    "#This is a commentS"
   ]
  },
  {
   "cell_type": "markdown",
   "id": "060ab1c6",
   "metadata": {},
   "source": [
    "comments2"
   ]
  },
  {
   "cell_type": "code",
   "execution_count": 5,
   "id": "beb94fd4",
   "metadata": {},
   "outputs": [
    {
     "data": {
      "text/plain": [
       "'\\nThis is a comment\\nwritten in\\nmore than just one line\\n'"
      ]
     },
     "execution_count": 5,
     "metadata": {},
     "output_type": "execute_result"
    }
   ],
   "source": [
    "\"\"\"\n",
    "This is a comment\n",
    "written in\n",
    "more than just one line\n",
    "\"\"\""
   ]
  },
  {
   "cell_type": "markdown",
   "id": "a7232d35",
   "metadata": {},
   "source": [
    "variable1"
   ]
  },
  {
   "cell_type": "code",
   "execution_count": 11,
   "id": "5c160795",
   "metadata": {},
   "outputs": [],
   "source": [
    "#create a value named and assign the value to it\n",
    "carname=\"Volvo\""
   ]
  },
  {
   "cell_type": "markdown",
   "id": "e1941f65",
   "metadata": {},
   "source": [
    "variable2"
   ]
  },
  {
   "cell_type": "code",
   "execution_count": 12,
   "id": "ad448b4f",
   "metadata": {},
   "outputs": [],
   "source": [
    "#create a variable named and assign the value to it.\n",
    "x=50"
   ]
  },
  {
   "cell_type": "raw",
   "id": "fa9581ce",
   "metadata": {},
   "source": [
    "variable3"
   ]
  },
  {
   "cell_type": "code",
   "execution_count": 13,
   "id": "eb209356",
   "metadata": {},
   "outputs": [
    {
     "name": "stdout",
     "output_type": "stream",
     "text": [
      "15\n"
     ]
    }
   ],
   "source": [
    "#display the sum of,using two variables:\n",
    "x=5\n",
    "y=10\n",
    "print(x+y)"
   ]
  },
  {
   "cell_type": "markdown",
   "id": "93a9f780",
   "metadata": {},
   "source": [
    "variable4"
   ]
  },
  {
   "cell_type": "code",
   "execution_count": 14,
   "id": "6b1e9667",
   "metadata": {},
   "outputs": [
    {
     "name": "stdout",
     "output_type": "stream",
     "text": [
      "15\n"
     ]
    }
   ],
   "source": [
    "#create a variable named, assign to it and display the result\n",
    "x=5\n",
    "y=10\n",
    "z=x+y\n",
    "print(z)"
   ]
  },
  {
   "cell_type": "markdown",
   "id": "01b96b0b",
   "metadata": {},
   "source": [
    "variable5"
   ]
  },
  {
   "cell_type": "code",
   "execution_count": 15,
   "id": "587abbac",
   "metadata": {},
   "outputs": [],
   "source": [
    "#remove the illegal characters in the veriable named\n",
    "#2my-first_name=\"Jhon\"\n",
    "myfirst_name=\"Jhon\""
   ]
  },
  {
   "cell_type": "markdown",
   "id": "ea4afd0a",
   "metadata": {},
   "source": [
    "variable6"
   ]
  },
  {
   "cell_type": "code",
   "execution_count": 16,
   "id": "c4ef8b96",
   "metadata": {},
   "outputs": [],
   "source": [
    "#insert the correct syntax to assign the same value to all the three variables in one code line\n",
    "x=y=z=\"Orange\""
   ]
  },
  {
   "cell_type": "markdown",
   "id": "afa3a670",
   "metadata": {},
   "source": [
    "variable7"
   ]
  },
  {
   "cell_type": "code",
   "execution_count": 2,
   "id": "e75fe2bb",
   "metadata": {},
   "outputs": [],
   "source": [
    "#Insert the correct keyword to make the variable x belong to the global scope\n",
    "def myfunc():\n",
    "    global x\n",
    "    x = \"fantastic\"\n",
    "myfunc()"
   ]
  },
  {
   "cell_type": "markdown",
   "id": "0e139b53",
   "metadata": {},
   "source": [
    "data types1"
   ]
  },
  {
   "cell_type": "code",
   "execution_count": 18,
   "id": "c1115ccb",
   "metadata": {},
   "outputs": [
    {
     "name": "stdout",
     "output_type": "stream",
     "text": [
      "<class 'int'>\n"
     ]
    }
   ],
   "source": [
    "#The following code example would print the data type of x, what data type would that be?\n",
    "x=5\n",
    "print(type(x))"
   ]
  },
  {
   "cell_type": "markdown",
   "id": "dc2a52e8",
   "metadata": {},
   "source": [
    "data types2"
   ]
  },
  {
   "cell_type": "code",
   "execution_count": 19,
   "id": "8f2c418e",
   "metadata": {},
   "outputs": [
    {
     "name": "stdout",
     "output_type": "stream",
     "text": [
      "<class 'str'>\n"
     ]
    }
   ],
   "source": [
    "#The following code example would print the data type of x, what data type would that be?\n",
    "x=\"Hello World\"\n",
    "print(type(x))"
   ]
  },
  {
   "cell_type": "markdown",
   "id": "ef8eb919",
   "metadata": {},
   "source": [
    "data types3"
   ]
  },
  {
   "cell_type": "code",
   "execution_count": 21,
   "id": "01b94cc9",
   "metadata": {},
   "outputs": [
    {
     "name": "stdout",
     "output_type": "stream",
     "text": [
      "<class 'float'>\n"
     ]
    }
   ],
   "source": [
    "#The following code example would print the data type of x, what data type would that be?\n",
    "x=20.5\n",
    "print(type(x))\n",
    "\n"
   ]
  },
  {
   "cell_type": "markdown",
   "id": "34e7d6ef",
   "metadata": {},
   "source": [
    "data types4"
   ]
  },
  {
   "cell_type": "code",
   "execution_count": 22,
   "id": "669d6995",
   "metadata": {},
   "outputs": [
    {
     "name": "stdout",
     "output_type": "stream",
     "text": [
      "<class 'list'>\n"
     ]
    }
   ],
   "source": [
    "x=[\"apple\",\"banana\",\"cherry\"]\n",
    "print(type(x))"
   ]
  },
  {
   "cell_type": "markdown",
   "id": "47893d20",
   "metadata": {},
   "source": [
    "data types5"
   ]
  },
  {
   "cell_type": "code",
   "execution_count": 23,
   "id": "466e7e06",
   "metadata": {},
   "outputs": [
    {
     "name": "stdout",
     "output_type": "stream",
     "text": [
      "<class 'tuple'>\n"
     ]
    }
   ],
   "source": [
    "x=(\"apple\",\"banana\",\"cherry\")\n",
    "print(type(x))"
   ]
  },
  {
   "cell_type": "markdown",
   "id": "52a9dc42",
   "metadata": {},
   "source": [
    "data types6"
   ]
  },
  {
   "cell_type": "code",
   "execution_count": 24,
   "id": "275d0404",
   "metadata": {},
   "outputs": [
    {
     "name": "stdout",
     "output_type": "stream",
     "text": [
      "<class 'dict'>\n"
     ]
    }
   ],
   "source": [
    "name\":x={\"\"John\",\"age\":36}\n",
    "print(type(x))"
   ]
  },
  {
   "cell_type": "markdown",
   "id": "dfb1a9d8",
   "metadata": {},
   "source": [
    "data types7"
   ]
  },
  {
   "cell_type": "code",
   "execution_count": 25,
   "id": "60eb167a",
   "metadata": {},
   "outputs": [
    {
     "name": "stdout",
     "output_type": "stream",
     "text": [
      "<class 'bool'>\n"
     ]
    }
   ],
   "source": [
    "x=True\n",
    "print(type(x))"
   ]
  },
  {
   "cell_type": "markdown",
   "id": "24061202",
   "metadata": {},
   "source": [
    "numbers1"
   ]
  },
  {
   "cell_type": "code",
   "execution_count": 26,
   "id": "5c21a8cc",
   "metadata": {},
   "outputs": [
    {
     "name": "stdout",
     "output_type": "stream",
     "text": [
      "5.0\n"
     ]
    }
   ],
   "source": [
    "#Insert the correct syntax to convert x into a floating point number\n",
    "x=5\n",
    "x=float(x)\n",
    "print(x)"
   ]
  },
  {
   "cell_type": "markdown",
   "id": "cfd29b24",
   "metadata": {},
   "source": [
    "numbers2"
   ]
  },
  {
   "cell_type": "code",
   "execution_count": 27,
   "id": "26fb6708",
   "metadata": {},
   "outputs": [
    {
     "name": "stdout",
     "output_type": "stream",
     "text": [
      "5\n"
     ]
    }
   ],
   "source": [
    "#Insert the correct syntax to convert x into a integer\n",
    "x=5.5\n",
    "x=int(x)\n",
    "print(x)"
   ]
  },
  {
   "cell_type": "markdown",
   "id": "2d01dedf",
   "metadata": {},
   "source": [
    "numbers3"
   ]
  },
  {
   "cell_type": "code",
   "execution_count": 28,
   "id": "175ff204",
   "metadata": {},
   "outputs": [
    {
     "name": "stdout",
     "output_type": "stream",
     "text": [
      "(5+0j)\n"
     ]
    }
   ],
   "source": [
    "#Insert the correct syntax to convert x into a complex number\n",
    "x=5\n",
    "x=complex(x)\n",
    "print(x)"
   ]
  },
  {
   "cell_type": "markdown",
   "id": "1b1ad974",
   "metadata": {},
   "source": [
    "string1"
   ]
  },
  {
   "cell_type": "code",
   "execution_count": 29,
   "id": "fb8e7d2f",
   "metadata": {},
   "outputs": [
    {
     "name": "stdout",
     "output_type": "stream",
     "text": [
      "11\n"
     ]
    }
   ],
   "source": [
    "#Use the method to print the length of the string\n",
    "x=\"Hello World\"\n",
    "print(len(x))"
   ]
  },
  {
   "cell_type": "markdown",
   "id": "ce5ec71e",
   "metadata": {},
   "source": [
    "string2"
   ]
  },
  {
   "cell_type": "code",
   "execution_count": 31,
   "id": "e7fec351",
   "metadata": {},
   "outputs": [
    {
     "name": "stdout",
     "output_type": "stream",
     "text": [
      "H\n"
     ]
    }
   ],
   "source": [
    "#Get the first character of the string\n",
    "txt=\"Hello World\"\n",
    "x=(txt[0])\n",
    "print(x)"
   ]
  },
  {
   "cell_type": "raw",
   "id": "fa8e8ed1",
   "metadata": {},
   "source": [
    "string3"
   ]
  },
  {
   "cell_type": "code",
   "execution_count": 32,
   "id": "d96010d8",
   "metadata": {},
   "outputs": [
    {
     "name": "stdout",
     "output_type": "stream",
     "text": [
      "llo\n"
     ]
    }
   ],
   "source": [
    "#Get the characters from index 2 to index 4 ()\n",
    "txt=\"Hello World\"\n",
    "x=txt[2:5]\n",
    "print(x)"
   ]
  },
  {
   "cell_type": "markdown",
   "id": "d665b441",
   "metadata": {},
   "source": [
    "string4"
   ]
  },
  {
   "cell_type": "code",
   "execution_count": 33,
   "id": "dfac89da",
   "metadata": {},
   "outputs": [
    {
     "name": "stdout",
     "output_type": "stream",
     "text": [
      "Hello World\n"
     ]
    }
   ],
   "source": [
    "#Return the string without any whitespace at the beginning or the end.\n",
    "txt=\" Hello World\"\n",
    "x=txt.strip()\n",
    "print(x)"
   ]
  },
  {
   "cell_type": "markdown",
   "id": "4fbeeccf",
   "metadata": {},
   "source": [
    "string5"
   ]
  },
  {
   "cell_type": "code",
   "execution_count": 34,
   "id": "217a3637",
   "metadata": {},
   "outputs": [
    {
     "name": "stdout",
     "output_type": "stream",
     "text": [
      "HELLO WORLD\n"
     ]
    }
   ],
   "source": [
    "#convert the value of to the upper case\n",
    "txt=\"Hello World\"\n",
    "txt=txt.upper()\n",
    "print(txt)"
   ]
  },
  {
   "cell_type": "markdown",
   "id": "450e3ef7",
   "metadata": {},
   "source": [
    "string6"
   ]
  },
  {
   "cell_type": "code",
   "execution_count": 35,
   "id": "c778f8a4",
   "metadata": {},
   "outputs": [
    {
     "name": "stdout",
     "output_type": "stream",
     "text": [
      "hello world\n"
     ]
    }
   ],
   "source": [
    "#convert the value of to the lower case\n",
    "txt=\"Hello World\"\n",
    "txt=txt.lower()\n",
    "print(txt)"
   ]
  },
  {
   "cell_type": "markdown",
   "id": "78a8e8c4",
   "metadata": {},
   "source": [
    "string7"
   ]
  },
  {
   "cell_type": "code",
   "execution_count": 36,
   "id": "1ccc9d80",
   "metadata": {},
   "outputs": [
    {
     "name": "stdout",
     "output_type": "stream",
     "text": [
      "Jello World\n"
     ]
    }
   ],
   "source": [
    "#Replace the character H with a J\n",
    "x = \"Hello World\"\n",
    "y=x.replace(\"H\",\"J\")\n",
    "print(y)"
   ]
  },
  {
   "cell_type": "markdown",
   "id": "877e48a0",
   "metadata": {},
   "source": [
    "string8"
   ]
  },
  {
   "cell_type": "code",
   "execution_count": 37,
   "id": "668153ba",
   "metadata": {},
   "outputs": [
    {
     "name": "stdout",
     "output_type": "stream",
     "text": [
      "My name is John, and I am 36\n"
     ]
    }
   ],
   "source": [
    "#Insert the correct syntax to add a placeholder for the age parameter.\n",
    "age=36\n",
    "txt=\"My name is John, and I am {}\"\n",
    "print(txt.format(age))"
   ]
  },
  {
   "cell_type": "markdown",
   "id": "8a793392",
   "metadata": {},
   "source": [
    "booleans1"
   ]
  },
  {
   "cell_type": "code",
   "execution_count": 38,
   "id": "956c6834",
   "metadata": {},
   "outputs": [
    {
     "name": "stdout",
     "output_type": "stream",
     "text": [
      "True\n"
     ]
    }
   ],
   "source": [
    "#The statement below would print a Boolean value, which one?\n",
    "print(10>9)"
   ]
  },
  {
   "cell_type": "markdown",
   "id": "d12db0e5",
   "metadata": {},
   "source": [
    "booleans2"
   ]
  },
  {
   "cell_type": "code",
   "execution_count": 39,
   "id": "0c0b200b",
   "metadata": {},
   "outputs": [
    {
     "name": "stdout",
     "output_type": "stream",
     "text": [
      "False\n"
     ]
    }
   ],
   "source": [
    "print(10==9)"
   ]
  },
  {
   "cell_type": "markdown",
   "id": "97ca3abd",
   "metadata": {},
   "source": [
    "booleans3"
   ]
  },
  {
   "cell_type": "code",
   "execution_count": 40,
   "id": "15b732fb",
   "metadata": {},
   "outputs": [
    {
     "name": "stdout",
     "output_type": "stream",
     "text": [
      "False\n"
     ]
    }
   ],
   "source": [
    "print(10<9)"
   ]
  },
  {
   "cell_type": "markdown",
   "id": "9792d3af",
   "metadata": {},
   "source": [
    "booleans4"
   ]
  },
  {
   "cell_type": "code",
   "execution_count": 41,
   "id": "5cc79ffe",
   "metadata": {},
   "outputs": [
    {
     "name": "stdout",
     "output_type": "stream",
     "text": [
      "True\n"
     ]
    }
   ],
   "source": [
    "print(bool(\"abc\"))"
   ]
  },
  {
   "cell_type": "markdown",
   "id": "1f04d37b",
   "metadata": {},
   "source": [
    "booleans5"
   ]
  },
  {
   "cell_type": "code",
   "execution_count": 42,
   "id": "575b14be",
   "metadata": {},
   "outputs": [
    {
     "name": "stdout",
     "output_type": "stream",
     "text": [
      "False\n"
     ]
    }
   ],
   "source": [
    "print(bool(0))"
   ]
  },
  {
   "cell_type": "markdown",
   "id": "8640370e",
   "metadata": {},
   "source": [
    "operators1"
   ]
  },
  {
   "cell_type": "code",
   "execution_count": 43,
   "id": "40e349b0",
   "metadata": {},
   "outputs": [
    {
     "name": "stdout",
     "output_type": "stream",
     "text": [
      "50\n"
     ]
    }
   ],
   "source": [
    "#Multiply with , and print the result\n",
    "print(10*5)"
   ]
  },
  {
   "cell_type": "markdown",
   "id": "ad8bed7d",
   "metadata": {},
   "source": [
    "operators2"
   ]
  },
  {
   "cell_type": "code",
   "execution_count": 44,
   "id": "2347232a",
   "metadata": {},
   "outputs": [
    {
     "name": "stdout",
     "output_type": "stream",
     "text": [
      "5.0\n"
     ]
    }
   ],
   "source": [
    "#Divide by , and print the result.\n",
    "print(10/2)"
   ]
  },
  {
   "cell_type": "markdown",
   "id": "f0050c6d",
   "metadata": {},
   "source": [
    "operators3"
   ]
  },
  {
   "cell_type": "code",
   "execution_count": 45,
   "id": "9133a9ca",
   "metadata": {},
   "outputs": [
    {
     "name": "stdout",
     "output_type": "stream",
     "text": [
      "Yes, apple is a fruit!\n"
     ]
    }
   ],
   "source": [
    "#Use the correct membership operator to check if \"apple\" is present in the object.fruits\n",
    "fruits = [\"apple\", \"banana\"]\n",
    "if \"apple\" in fruits:\n",
    "  print(\"Yes, apple is a fruit!\")"
   ]
  },
  {
   "cell_type": "markdown",
   "id": "525dcb55",
   "metadata": {},
   "source": [
    "operators4"
   ]
  },
  {
   "cell_type": "code",
   "execution_count": 46,
   "id": "05b61860",
   "metadata": {},
   "outputs": [
    {
     "name": "stdout",
     "output_type": "stream",
     "text": [
      "5 and 10 is not equal\n"
     ]
    }
   ],
   "source": [
    "#Use the correct comparison operator to check if is not equal to\n",
    "if 5!=10:\n",
    "  print(\"5 and 10 is not equal\")"
   ]
  },
  {
   "cell_type": "markdown",
   "id": "329618a4",
   "metadata": {},
   "source": [
    "operators5"
   ]
  },
  {
   "cell_type": "code",
   "execution_count": 47,
   "id": "9d17f450",
   "metadata": {},
   "outputs": [
    {
     "name": "stdout",
     "output_type": "stream",
     "text": [
      "At least one of the statements is true\n"
     ]
    }
   ],
   "source": [
    "#Use the correct logical operator to check if at least one of two statements is .True\n",
    "if 5 == 10 or 4 == 4:\n",
    "  print(\"At least one of the statements is true\")"
   ]
  },
  {
   "cell_type": "markdown",
   "id": "b4856385",
   "metadata": {},
   "source": [
    "if...else1"
   ]
  },
  {
   "cell_type": "code",
   "execution_count": 48,
   "id": "22890e9e",
   "metadata": {},
   "outputs": [
    {
     "name": "stdout",
     "output_type": "stream",
     "text": [
      "Hello World\n"
     ]
    }
   ],
   "source": [
    "#Print \"Hello World\" if a is greater than b\n",
    "a = 50\n",
    "b = 10\n",
    "if a>b:\n",
    "  print(\"Hello World\")"
   ]
  },
  {
   "cell_type": "markdown",
   "id": "c7beb326",
   "metadata": {},
   "source": [
    "if...else2"
   ]
  },
  {
   "cell_type": "code",
   "execution_count": 49,
   "id": "9555c033",
   "metadata": {},
   "outputs": [
    {
     "name": "stdout",
     "output_type": "stream",
     "text": [
      "Hello World\n"
     ]
    }
   ],
   "source": [
    "#Print \"Hello World\" if a is not equal to b\n",
    "a = 50\n",
    "b = 10\n",
    "if a!=b:\n",
    "  print(\"Hello World\")"
   ]
  },
  {
   "cell_type": "markdown",
   "id": "64fc951a",
   "metadata": {},
   "source": [
    "if...else3"
   ]
  },
  {
   "cell_type": "code",
   "execution_count": 50,
   "id": "45f0f740",
   "metadata": {},
   "outputs": [
    {
     "name": "stdout",
     "output_type": "stream",
     "text": [
      "No\n"
     ]
    }
   ],
   "source": [
    "#Print \"Yes\" if a is equal to b, otherwise print \"No\"\n",
    "a = 50\n",
    "b = 10\n",
    "if a==b:\n",
    "  print(\"Yes\")\n",
    "else:\n",
    "  print(\"No\")"
   ]
  },
  {
   "cell_type": "markdown",
   "id": "bfe8805c",
   "metadata": {},
   "source": [
    "if...else4"
   ]
  },
  {
   "cell_type": "code",
   "execution_count": 51,
   "id": "d6d35ade",
   "metadata": {},
   "outputs": [
    {
     "name": "stdout",
     "output_type": "stream",
     "text": [
      "2\n"
     ]
    }
   ],
   "source": [
    "#Print \"1\" if a is equal to b, print \"2\" if a is greater than b, otherwise print \"3\"\n",
    "a = 50\n",
    "b = 10\n",
    "if a==b:\n",
    "  print(\"1\")\n",
    "elif a>b:\n",
    "  print(\"2\")\n",
    "else:\n",
    "  print(\"3\")"
   ]
  },
  {
   "cell_type": "markdown",
   "id": "caf2a030",
   "metadata": {},
   "source": [
    "if...else5"
   ]
  },
  {
   "cell_type": "code",
   "execution_count": 53,
   "id": "902f9948",
   "metadata": {},
   "outputs": [],
   "source": [
    "#Print \"Hello\" if a is equal to b , and c is equal to d\n",
    "if a == b and c == d:\n",
    " print(\"Hello\")"
   ]
  },
  {
   "cell_type": "markdown",
   "id": "a35a009d",
   "metadata": {},
   "source": [
    "if...else6"
   ]
  },
  {
   "cell_type": "code",
   "execution_count": null,
   "id": "49017313",
   "metadata": {},
   "outputs": [],
   "source": [
    "#Print \"Hello\" if a is equal to b, or if c is equal to d\n",
    "if a == b or c == d:\n",
    "  print(\"Hello\")"
   ]
  },
  {
   "cell_type": "markdown",
   "id": "5dd15228",
   "metadata": {},
   "source": [
    "if...else7"
   ]
  },
  {
   "cell_type": "code",
   "execution_count": 54,
   "id": "1d9a23b5",
   "metadata": {},
   "outputs": [
    {
     "name": "stdout",
     "output_type": "stream",
     "text": [
      "Five is greater than two!\n"
     ]
    }
   ],
   "source": [
    "#Insert the missing indentation to make the code correct:\n",
    "\"\"\"\n",
    "if 5 > 2:\n",
    "print(\"Five is greater than two!\")\n",
    "\"\"\"\n",
    "if 5 > 2:\n",
    " print(\"Five is greater than two!\")"
   ]
  },
  {
   "cell_type": "markdown",
   "id": "9bfa4e0c",
   "metadata": {},
   "source": [
    "if...else8"
   ]
  },
  {
   "cell_type": "code",
   "execution_count": 55,
   "id": "31873bc4",
   "metadata": {},
   "outputs": [
    {
     "name": "stdout",
     "output_type": "stream",
     "text": [
      "Five is greater than two!\n"
     ]
    }
   ],
   "source": [
    "#Use the correct short hand syntax to put the following statement on one line:\n",
    "\"\"\"\n",
    "if 5 > 2:\n",
    "print(\"Five is greater than two!\")\n",
    "\"\"\"\n",
    "if 5 > 2: print(\"Five is greater than two!\")"
   ]
  },
  {
   "cell_type": "markdown",
   "id": "82175dae",
   "metadata": {},
   "source": [
    "if...else9"
   ]
  },
  {
   "cell_type": "code",
   "execution_count": 56,
   "id": "d301c7d7",
   "metadata": {},
   "outputs": [
    {
     "name": "stdout",
     "output_type": "stream",
     "text": [
      "Yes\n"
     ]
    }
   ],
   "source": [
    "#Use the correct short hand syntax to write the following conditional expression in one line:\n",
    "\"\"\"\n",
    "if 5 > 2:\n",
    "  print(\"Yes\")\n",
    "else\n",
    "  print(\"No\")\n",
    "\"\"\"\n",
    "print(\"Yes\") if 5>2 else print(\"No\")"
   ]
  }
 ],
 "metadata": {
  "kernelspec": {
   "display_name": "Python 3 (ipykernel)",
   "language": "python",
   "name": "python3"
  },
  "language_info": {
   "codemirror_mode": {
    "name": "ipython",
    "version": 3
   },
   "file_extension": ".py",
   "mimetype": "text/x-python",
   "name": "python",
   "nbconvert_exporter": "python",
   "pygments_lexer": "ipython3",
   "version": "3.9.13"
  }
 },
 "nbformat": 4,
 "nbformat_minor": 5
}
