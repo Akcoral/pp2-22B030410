{
 "cells": [
  {
   "cell_type": "markdown",
   "id": "ac1375ef",
   "metadata": {},
   "source": [
    "Classes"
   ]
  },
  {
   "cell_type": "code",
   "execution_count": 22,
   "id": "2b04917a",
   "metadata": {},
   "outputs": [
    {
     "ename": "SyntaxError",
     "evalue": "invalid syntax (4172858592.py, line 16)",
     "output_type": "error",
     "traceback": [
      "\u001b[1;36m  File \u001b[1;32m\"C:\\Users\\Admin\\AppData\\Local\\Temp\\ipykernel_13780\\4172858592.py\"\u001b[1;36m, line \u001b[1;32m16\u001b[0m\n\u001b[1;33m    print self.s.upper()\u001b[0m\n\u001b[1;37m          ^\u001b[0m\n\u001b[1;31mSyntaxError\u001b[0m\u001b[1;31m:\u001b[0m invalid syntax\n"
     ]
    }
   ],
   "source": [
    "\"\"\"\n",
    "Define a class which has at least two methods:\n",
    "\n",
    "getString: to get a string from console input\n",
    "printString: to print the string in upper case.\n",
    "\"\"\"\n",
    "\n",
    "class InputOutString(object):\n",
    "    def __init__(self):\n",
    "        self.s = \"\"\n",
    "\n",
    "    def getString(self):\n",
    "        self.s = raw_input()\n",
    "\n",
    "    def printString(self):\n",
    "        print self.s.upper()\n",
    "\n",
    "strObj = InputOutString()\n",
    "strObj.getString()\n",
    "strObj.printString()"
   ]
  },
  {
   "cell_type": "code",
   "execution_count": 9,
   "id": "4a1978a0",
   "metadata": {},
   "outputs": [
    {
     "name": "stdout",
     "output_type": "stream",
     "text": [
      "25\n",
      "0\n"
     ]
    }
   ],
   "source": [
    "class Shape():\n",
    "    def __init__(self):\n",
    "        pass\n",
    "\n",
    "    def area(self):\n",
    "        return 0\n",
    "\n",
    "class Square(Shape):\n",
    "    def __init__(self,length = 0):\n",
    "        Shape.__init__(self)\n",
    "        self.length = length\n",
    "\n",
    "    def area(self):\n",
    "        return self.length*self.length\n",
    "\n",
    "Asqr = Square(5)\n",
    "print(Asqr.area())      # prints 25 as given argument\n",
    "\n",
    "print(Square().area())  # prints zero as default area"
   ]
  },
  {
   "cell_type": "code",
   "execution_count": 7,
   "id": "ddc2d31e",
   "metadata": {},
   "outputs": [
    {
     "name": "stdout",
     "output_type": "stream",
     "text": [
      "8\n"
     ]
    }
   ],
   "source": [
    "class Rectangle():\n",
    "    def __init__(self,l,w):\n",
    "        self.length = l\n",
    "        self.width = w\n",
    "\n",
    "    def area(self):\n",
    "        return self.length*self.width\n",
    "\n",
    "\n",
    "rect = Rectangle(2,4)\n",
    "print(rect.area())"
   ]
  },
  {
   "cell_type": "code",
   "execution_count": 12,
   "id": "2ca30d57",
   "metadata": {},
   "outputs": [],
   "source": [
    "\"\"\">>> p1 = Point(2, 3)\n",
    ">>> p2 = Point(3, 3)\n",
    ">>> p1.show()\n",
    "(2, 3)\n",
    ">>> p2.show()\n",
    "(3, 3)\n",
    ">>> p1.move(10, -10)\n",
    ">>> p1.show()\n",
    "(12, -7)\n",
    ">>> p2.show()\n",
    "(3, 3)\n",
    ">>> p1.dist(p2)\n",
    "1.0\n",
    "\"\"\"\n",
    "import math\n",
    "\n",
    "\n",
    "class Point(object):\n",
    "    \"\"\"Class to handle point in a 2 dimensions space\"\"\"\n",
    "\n",
    "    def __init__(self, x, y):\n",
    "        \"\"\"\n",
    "        :param x: the value on the X-axis\n",
    "        :type x: float\n",
    "        :param y: the value on the Y-axis\n",
    "        :type y: float\n",
    "        \"\"\"\n",
    "        self.x = x\n",
    "        self.y = y\n",
    "\n",
    "\n",
    "    def show(self):\n",
    "        \"\"\"\n",
    "        :return: the coordinate of this point\n",
    "        :rtype: a tuple of 2 elements (float, float)\n",
    "        \"\"\"\n",
    "        return self.x, self.y\n",
    "\n",
    "\n",
    "    def move(self, x, y):\n",
    "        \"\"\"\n",
    "        :param x: the value to move on the X-axis\n",
    "        :type x: float\n",
    "        :param y: the value to move on the Y-axis\n",
    "        :type y: float\n",
    "        \"\"\"\n",
    "        self.x += x\n",
    "        self.y += y\n",
    "\n",
    "\n",
    "    def dist(self, pt):\n",
    "        \"\"\"\n",
    "        :param pt: the point to compute the distance with\n",
    "        :type pt: :class:`Point` object\n",
    "        :return: the distance between this point ant pt\n",
    "        :rtype: int\n",
    "        \"\"\"\n",
    "        dx = pt.x - self.x\n",
    "        dy = pt.y - self.y\n",
    "        return math.sqrt(dx ** 2 + dy ** 2)"
   ]
  },
  {
   "cell_type": "code",
   "execution_count": 14,
   "id": "2b2fa14e",
   "metadata": {},
   "outputs": [],
   "source": [
    "class Account:\n",
    "    def __init__(self,owner,balance=0):\n",
    "        self.owner = owner\n",
    "        self.balance = balance\n",
    "        \n",
    "    def __str__(self):\n",
    "        return f'Account owner:   {self.owner}\\nAccount balance: ${self.balance}'\n",
    "        \n",
    "    def deposit(self,dep_amt):\n",
    "        self.balance += dep_amt\n",
    "        print('Deposit Accepted')\n",
    "        \n",
    "    def withdraw(self,wd_amt):\n",
    "        if self.balance >= wd_amt:\n",
    "            self.balance -= wd_amt\n",
    "            print('Withdrawal Accepted')\n",
    "        else:\n",
    "            print('Funds Unavailable!')\n",
    "            "
   ]
  },
  {
   "cell_type": "code",
   "execution_count": 15,
   "id": "755d910d",
   "metadata": {},
   "outputs": [],
   "source": [
    "# 1. Instantiate the class\n",
    "acct1 = Account('Jose',100)"
   ]
  },
  {
   "cell_type": "code",
   "execution_count": 16,
   "id": "866913a7",
   "metadata": {},
   "outputs": [
    {
     "name": "stdout",
     "output_type": "stream",
     "text": [
      "Account owner:   Jose\n",
      "Account balance: $100\n"
     ]
    }
   ],
   "source": [
    "# 2. Print the object\n",
    "print(acct1)"
   ]
  },
  {
   "cell_type": "code",
   "execution_count": 17,
   "id": "da4c09e4",
   "metadata": {},
   "outputs": [
    {
     "data": {
      "text/plain": [
       "'Jose'"
      ]
     },
     "execution_count": 17,
     "metadata": {},
     "output_type": "execute_result"
    }
   ],
   "source": [
    "# 3. Show the account owner attribute\n",
    "acct1.owner"
   ]
  },
  {
   "cell_type": "code",
   "execution_count": 18,
   "id": "db95bbf9",
   "metadata": {},
   "outputs": [
    {
     "data": {
      "text/plain": [
       "100"
      ]
     },
     "execution_count": 18,
     "metadata": {},
     "output_type": "execute_result"
    }
   ],
   "source": [
    "# 4. Show the account balance attribute\n",
    "acct1.balance"
   ]
  },
  {
   "cell_type": "code",
   "execution_count": 19,
   "id": "62cb3b60",
   "metadata": {},
   "outputs": [
    {
     "name": "stdout",
     "output_type": "stream",
     "text": [
      "Deposit Accepted\n"
     ]
    }
   ],
   "source": [
    "# 5. Make a series of deposits and withdrawals\n",
    "acct1.deposit(50)"
   ]
  },
  {
   "cell_type": "code",
   "execution_count": 20,
   "id": "e42a8dd9",
   "metadata": {},
   "outputs": [
    {
     "name": "stdout",
     "output_type": "stream",
     "text": [
      "Withdrawal Accepted\n"
     ]
    }
   ],
   "source": [
    "acct1.withdraw(75)"
   ]
  },
  {
   "cell_type": "code",
   "execution_count": 21,
   "id": "9df9e0d0",
   "metadata": {},
   "outputs": [
    {
     "name": "stdout",
     "output_type": "stream",
     "text": [
      "Funds Unavailable!\n"
     ]
    }
   ],
   "source": [
    "# 6. Make a withdrawal that exceeds the available balance\n",
    "acct1.withdraw(500)"
   ]
  },
  {
   "cell_type": "code",
   "execution_count": 25,
   "id": "d3ccd7e5",
   "metadata": {},
   "outputs": [
    {
     "name": "stdout",
     "output_type": "stream",
     "text": [
      "Original list of integers:\n",
      "[1, 2, 3, 4, 5, 6, 7, 8, 9, 10]\n",
      "\n",
      "Prime numbers from the said list:\n"
     ]
    },
    {
     "ename": "TypeError",
     "evalue": "filter expected 2 arguments, got 3",
     "output_type": "error",
     "traceback": [
      "\u001b[1;31m---------------------------------------------------------------------------\u001b[0m",
      "\u001b[1;31mTypeError\u001b[0m                                 Traceback (most recent call last)",
      "\u001b[1;32m~\\AppData\\Local\\Temp\\ipykernel_13780\\2012240580.py\u001b[0m in \u001b[0;36m<module>\u001b[1;34m\u001b[0m\n\u001b[0;32m      5\u001b[0m \u001b[0mprint\u001b[0m\u001b[1;33m(\u001b[0m\u001b[0mnums\u001b[0m\u001b[1;33m)\u001b[0m\u001b[1;33m\u001b[0m\u001b[1;33m\u001b[0m\u001b[0m\n\u001b[0;32m      6\u001b[0m \u001b[0mprint\u001b[0m\u001b[1;33m(\u001b[0m\u001b[1;34m\"\\nPrime numbers from the said list:\"\u001b[0m\u001b[1;33m)\u001b[0m\u001b[1;33m\u001b[0m\u001b[1;33m\u001b[0m\u001b[0m\n\u001b[1;32m----> 7\u001b[1;33m \u001b[0meven_nums\u001b[0m \u001b[1;33m=\u001b[0m \u001b[0mlist\u001b[0m\u001b[1;33m(\u001b[0m\u001b[0mfilter\u001b[0m\u001b[1;33m(\u001b[0m\u001b[1;32mlambda\u001b[0m \u001b[0mx\u001b[0m\u001b[1;33m,\u001b[0m\u001b[0my\u001b[0m\u001b[1;33m:\u001b[0m \u001b[0mx\u001b[0m \u001b[1;33m%\u001b[0m \u001b[0my\u001b[0m \u001b[1;33m!=\u001b[0m \u001b[1;36m0\u001b[0m\u001b[1;33m,\u001b[0m \u001b[0mnums\u001b[0m\u001b[1;33m,\u001b[0m\u001b[0mnums\u001b[0m\u001b[1;33m)\u001b[0m\u001b[1;33m)\u001b[0m\u001b[1;33m\u001b[0m\u001b[1;33m\u001b[0m\u001b[0m\n\u001b[0m",
      "\u001b[1;31mTypeError\u001b[0m: filter expected 2 arguments, got 3"
     ]
    }
   ],
   "source": [
    "# Write a program which can filter prime numbers in a list by using filter function. Note: Use lambda to define anonymous functions.\n",
    "\n",
    "nums = [1, 2, 3, 4, 5, 6, 7, 8, 9, 10]\n",
    "print(\"Original list of integers:\")\n",
    "print(nums)\n",
    "print(\"\\nPrime numbers from the said list:\")\n",
    "even_nums = list(filter(lambda x,y: x % y != 0, nums,nums))"
   ]
  }
 ],
 "metadata": {
  "kernelspec": {
   "display_name": "Python 3 (ipykernel)",
   "language": "python",
   "name": "python3"
  },
  "language_info": {
   "codemirror_mode": {
    "name": "ipython",
    "version": 3
   },
   "file_extension": ".py",
   "mimetype": "text/x-python",
   "name": "python",
   "nbconvert_exporter": "python",
   "pygments_lexer": "ipython3",
   "version": "3.9.13"
  }
 },
 "nbformat": 4,
 "nbformat_minor": 5
}
