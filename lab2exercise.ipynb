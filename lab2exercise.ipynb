{
 "cells": [
  {
   "cell_type": "markdown",
   "id": "e18756db",
   "metadata": {},
   "source": [
    "python while loops1"
   ]
  },
  {
   "cell_type": "code",
   "execution_count": 7,
   "id": "986ac83d",
   "metadata": {},
   "outputs": [
    {
     "name": "stdout",
     "output_type": "stream",
     "text": [
      "1\n",
      "2\n",
      "3\n",
      "4\n",
      "5\n"
     ]
    }
   ],
   "source": [
    "#Print i as long as i is less than 6\n",
    "i = 1\n",
    "while i < 6:\n",
    "  print(i)\n",
    "  i += 1"
   ]
  },
  {
   "cell_type": "markdown",
   "id": "ca6946dd",
   "metadata": {},
   "source": [
    "python while loops2"
   ]
  },
  {
   "cell_type": "code",
   "execution_count": 8,
   "id": "1efa5afe",
   "metadata": {},
   "outputs": [
    {
     "name": "stdout",
     "output_type": "stream",
     "text": [
      "2\n",
      "3\n"
     ]
    }
   ],
   "source": [
    "#stop the loop if i is 3:\n",
    "i=1\n",
    "while i<6:\n",
    "    if i==3:\n",
    "        break\n",
    "    i+=1\n",
    "    print(i)"
   ]
  },
  {
   "cell_type": "markdown",
   "id": "17344cb0",
   "metadata": {},
   "source": [
    "python while loops3"
   ]
  },
  {
   "cell_type": "code",
   "execution_count": 9,
   "id": "3105a2c2",
   "metadata": {},
   "outputs": [
    {
     "name": "stdout",
     "output_type": "stream",
     "text": [
      "1\n",
      "2\n",
      "4\n",
      "5\n",
      "6\n"
     ]
    }
   ],
   "source": [
    "#In the loop, when i is 3, jump directly to the next iteration:\n",
    "i=0\n",
    "while i<6:\n",
    "    i+=1\n",
    "    if i==3:\n",
    "     continue\n",
    "    print(i)"
   ]
  },
  {
   "cell_type": "markdown",
   "id": "9d10667b",
   "metadata": {},
   "source": [
    "python while loops4"
   ]
  },
  {
   "cell_type": "code",
   "execution_count": 10,
   "id": "88a04749",
   "metadata": {},
   "outputs": [
    {
     "name": "stdout",
     "output_type": "stream",
     "text": [
      "1\n",
      "2\n",
      "3\n",
      "4\n",
      "5\n",
      "i is no longer less than 6\n"
     ]
    }
   ],
   "source": [
    "#Print a message once the condition is false\n",
    "i = 1\n",
    "while i < 6:\n",
    "  print(i)\n",
    "  i += 1\n",
    "else:\n",
    "  print(\"i is no longer less than 6\")"
   ]
  },
  {
   "cell_type": "markdown",
   "id": "9a188c57",
   "metadata": {},
   "source": [
    "python list1"
   ]
  },
  {
   "cell_type": "code",
   "execution_count": 11,
   "id": "6bc1086c",
   "metadata": {},
   "outputs": [
    {
     "name": "stdout",
     "output_type": "stream",
     "text": [
      "banana\n"
     ]
    }
   ],
   "source": [
    "#Print the second item in the fruits list\n",
    "fruits = [\"apple\", \"banana\", \"cherry\"]\n",
    "print(fruits[1])"
   ]
  },
  {
   "cell_type": "markdown",
   "id": "350e60c6",
   "metadata": {},
   "source": [
    "python list2"
   ]
  },
  {
   "cell_type": "code",
   "execution_count": 14,
   "id": "8d7c3ccc",
   "metadata": {},
   "outputs": [
    {
     "name": "stdout",
     "output_type": "stream",
     "text": [
      "['kiwi', 'banana', 'cherry']\n"
     ]
    }
   ],
   "source": [
    "#Change the value from \"apple\" to \"kiwi\", in the fruits list\n",
    "fruits = [\"apple\", \"banana\", \"cherry\"]\n",
    "fruits[0] = \"kiwi\"\n",
    "print(fruits)"
   ]
  },
  {
   "cell_type": "markdown",
   "id": "c5105785",
   "metadata": {},
   "source": [
    "python list3"
   ]
  },
  {
   "cell_type": "code",
   "execution_count": 15,
   "id": "53346df8",
   "metadata": {},
   "outputs": [
    {
     "name": "stdout",
     "output_type": "stream",
     "text": [
      "['apple', 'banana', 'cherry', 'orange']\n"
     ]
    }
   ],
   "source": [
    "#Use the append method to add \"orange\" to the fruits list.\n",
    "fruits = [\"apple\", \"banana\", \"cherry\"]\n",
    "fruits.append(\"orange\")\n",
    "print(fruits)"
   ]
  },
  {
   "cell_type": "markdown",
   "id": "4dc9e156",
   "metadata": {},
   "source": [
    "python list4"
   ]
  },
  {
   "cell_type": "code",
   "execution_count": 16,
   "id": "e143649a",
   "metadata": {},
   "outputs": [
    {
     "name": "stdout",
     "output_type": "stream",
     "text": [
      "['apple', 'lemon', 'banana', 'cherry']\n"
     ]
    }
   ],
   "source": [
    "#Use the insert method to add \"lemon\" as the second item in the fruits list.\n",
    "fruits = [\"apple\", \"banana\", \"cherry\"]\n",
    "fruits.insert(1,\"lemon\")\n",
    "print(fruits)"
   ]
  },
  {
   "cell_type": "markdown",
   "id": "3a98ef1a",
   "metadata": {},
   "source": [
    "python list5"
   ]
  },
  {
   "cell_type": "code",
   "execution_count": 17,
   "id": "46473745",
   "metadata": {},
   "outputs": [
    {
     "name": "stdout",
     "output_type": "stream",
     "text": [
      "['apple', 'cherry']\n"
     ]
    }
   ],
   "source": [
    "#Use the remove method to remove \"banana\" from the fruits list.\n",
    "fruits = [\"apple\", \"banana\", \"cherry\"]\n",
    "fruits.remove(\"banana\")\n",
    "print(fruits)"
   ]
  },
  {
   "cell_type": "markdown",
   "id": "0c63b55f",
   "metadata": {},
   "source": [
    "python list6"
   ]
  },
  {
   "cell_type": "code",
   "execution_count": 18,
   "id": "3ddba376",
   "metadata": {},
   "outputs": [
    {
     "name": "stdout",
     "output_type": "stream",
     "text": [
      "cherry\n"
     ]
    }
   ],
   "source": [
    "#Use negative indexing to print the last item in the list.\n",
    "fruits = [\"apple\", \"banana\", \"cherry\"]\n",
    "print(fruits[-1])"
   ]
  },
  {
   "cell_type": "markdown",
   "id": "2045e2d1",
   "metadata": {},
   "source": [
    "python list7"
   ]
  },
  {
   "cell_type": "code",
   "execution_count": 19,
   "id": "f439f9f8",
   "metadata": {},
   "outputs": [
    {
     "name": "stdout",
     "output_type": "stream",
     "text": [
      "['cherry', 'orange', 'kiwi']\n"
     ]
    }
   ],
   "source": [
    "#Use a range of indexes to print the third, fourth, and fifth item in the list.\n",
    "fruits = [\"apple\", \"banana\", \"cherry\", \"orange\", \"kiwi\", \"melon\", \"mango\"]\n",
    "print(fruits[2:5])"
   ]
  },
  {
   "cell_type": "markdown",
   "id": "8b4261bb",
   "metadata": {},
   "source": [
    "python list8"
   ]
  },
  {
   "cell_type": "code",
   "execution_count": 20,
   "id": "dbaeffed",
   "metadata": {},
   "outputs": [
    {
     "name": "stdout",
     "output_type": "stream",
     "text": [
      "3\n"
     ]
    }
   ],
   "source": [
    "#Use the correct syntax to print the number of items in the list.\n",
    "fruits = [\"apple\", \"banana\", \"cherry\"]\n",
    "print(len(fruits))"
   ]
  },
  {
   "cell_type": "markdown",
   "id": "96733d89",
   "metadata": {},
   "source": [
    "python for loops1"
   ]
  },
  {
   "cell_type": "code",
   "execution_count": 21,
   "id": "1b80a480",
   "metadata": {},
   "outputs": [
    {
     "name": "stdout",
     "output_type": "stream",
     "text": [
      "apple\n",
      "banana\n",
      "cherry\n"
     ]
    }
   ],
   "source": [
    "#Loop through the items in the list\n",
    "fruits = [\"apple\", \"banana\", \"cherry\"]\n",
    "for x in fruits:\n",
    " print(x)"
   ]
  },
  {
   "cell_type": "markdown",
   "id": "af1b33a3",
   "metadata": {},
   "source": [
    "python for loops2"
   ]
  },
  {
   "cell_type": "code",
   "execution_count": 22,
   "id": "e2c6f9b6",
   "metadata": {},
   "outputs": [
    {
     "name": "stdout",
     "output_type": "stream",
     "text": [
      "cherry\n"
     ]
    }
   ],
   "source": [
    "#In the loop, when the item value is \"banana\", jump directly to the next item.\n",
    "fruits = [\"apple\", \"banana\", \"cherry\"]\n",
    "for x in fruits:\n",
    "    if x == \"banana\":\n",
    "      continue\n",
    "print(x)"
   ]
  },
  {
   "cell_type": "markdown",
   "id": "1e7c0e3c",
   "metadata": {},
   "source": [
    "python for loops3"
   ]
  },
  {
   "cell_type": "code",
   "execution_count": 23,
   "id": "83421df3",
   "metadata": {},
   "outputs": [
    {
     "name": "stdout",
     "output_type": "stream",
     "text": [
      "0\n",
      "1\n",
      "2\n",
      "3\n",
      "4\n",
      "5\n"
     ]
    }
   ],
   "source": [
    "#Use the range function to loop through a code set 6 times.\n",
    "for x in range(6):\n",
    "    print(x)"
   ]
  },
  {
   "cell_type": "markdown",
   "id": "f171bad6",
   "metadata": {},
   "source": [
    "python for loops4"
   ]
  },
  {
   "cell_type": "code",
   "execution_count": 24,
   "id": "215ac890",
   "metadata": {},
   "outputs": [
    {
     "name": "stdout",
     "output_type": "stream",
     "text": [
      "banana\n"
     ]
    }
   ],
   "source": [
    "#Exit the loop when x is \"banana\"\n",
    "fruits = [\"apple\", \"banana\", \"cherry\"]\n",
    "for x in fruits:\n",
    "    if x == \"banana\":\n",
    "     break\n",
    "print(x)"
   ]
  },
  {
   "cell_type": "markdown",
   "id": "b4874b4f",
   "metadata": {},
   "source": [
    "arrays1"
   ]
  },
  {
   "cell_type": "code",
   "execution_count": 25,
   "id": "c607bce7",
   "metadata": {},
   "outputs": [
    {
     "name": "stdout",
     "output_type": "stream",
     "text": [
      "Ford\n"
     ]
    }
   ],
   "source": [
    "#Get the value of the first array item:\n",
    "cars = [\"Ford\", \"Volvo\", \"BMW\"]\n",
    "x=cars[0]\n",
    "print(x)"
   ]
  },
  {
   "cell_type": "markdown",
   "id": "f17c974e",
   "metadata": {},
   "source": [
    "arrays2"
   ]
  },
  {
   "cell_type": "code",
   "execution_count": 27,
   "id": "608322e4",
   "metadata": {},
   "outputs": [
    {
     "name": "stdout",
     "output_type": "stream",
     "text": [
      "['Toyota', 'Volvo', 'BMW']\n"
     ]
    }
   ],
   "source": [
    "#Change the value of the first array item:\n",
    "cars = [\"Ford\", \"Volvo\", \"BMW\"]\n",
    "cars[0] = \"Toyota\"\n",
    "print(cars)"
   ]
  },
  {
   "cell_type": "markdown",
   "id": "0d319b83",
   "metadata": {},
   "source": [
    "arrays3"
   ]
  },
  {
   "cell_type": "code",
   "execution_count": 28,
   "id": "1aaef718",
   "metadata": {},
   "outputs": [
    {
     "name": "stdout",
     "output_type": "stream",
     "text": [
      "3\n"
     ]
    }
   ],
   "source": [
    "#Return the number of elements in the array:\n",
    "cars = [\"Ford\", \"Volvo\", \"BMW\"]\n",
    "x=len(cars)\n",
    "print(len(cars))"
   ]
  },
  {
   "cell_type": "markdown",
   "id": "eae7d68d",
   "metadata": {},
   "source": [
    "arrays4"
   ]
  },
  {
   "cell_type": "code",
   "execution_count": 29,
   "id": "ec09640c",
   "metadata": {},
   "outputs": [
    {
     "name": "stdout",
     "output_type": "stream",
     "text": [
      "Ford\n",
      "Volvo\n",
      "BMW\n"
     ]
    }
   ],
   "source": [
    "#Print each item in the array:\n",
    "cars = [\"Ford\", \"Volvo\", \"BMW\"]\n",
    "for x in cars:\n",
    "    print(x)"
   ]
  },
  {
   "cell_type": "markdown",
   "id": "55f5238d",
   "metadata": {},
   "source": [
    "arrays5"
   ]
  },
  {
   "cell_type": "code",
   "execution_count": 30,
   "id": "d0a0b0d6",
   "metadata": {},
   "outputs": [
    {
     "name": "stdout",
     "output_type": "stream",
     "text": [
      "['Ford', 'Volvo', 'BMW', 'Honda']\n"
     ]
    }
   ],
   "source": [
    "#Add one more element to the array:\n",
    "cars = [\"Ford\", \"Volvo\", \"BMW\"]\n",
    "cars.append(\"Honda\")\n",
    "print(cars)"
   ]
  },
  {
   "cell_type": "markdown",
   "id": "a012f91a",
   "metadata": {},
   "source": [
    "arrays6"
   ]
  },
  {
   "cell_type": "code",
   "execution_count": 31,
   "id": "aa890d87",
   "metadata": {},
   "outputs": [
    {
     "name": "stdout",
     "output_type": "stream",
     "text": [
      "['Ford', 'BMW']\n"
     ]
    }
   ],
   "source": [
    "#Delete the second element of the array:\n",
    "cars = [\"Ford\", \"Volvo\", \"BMW\"]\n",
    "cars.pop(1)\n",
    "print(cars)"
   ]
  },
  {
   "cell_type": "markdown",
   "id": "1bec4929",
   "metadata": {},
   "source": [
    "arrays7"
   ]
  },
  {
   "cell_type": "code",
   "execution_count": 32,
   "id": "c7155b60",
   "metadata": {},
   "outputs": [
    {
     "name": "stdout",
     "output_type": "stream",
     "text": [
      "['Ford', 'BMW']\n"
     ]
    }
   ],
   "source": [
    "#Delete the element that has the value \"Volvo\":\n",
    "cars = [\"Ford\", \"Volvo\", \"BMW\"]\n",
    "cars.remove(\"Volvo\")\n",
    "print(cars)"
   ]
  },
  {
   "cell_type": "markdown",
   "id": "2c0c197b",
   "metadata": {},
   "source": [
    "python tuple1"
   ]
  },
  {
   "cell_type": "code",
   "execution_count": 33,
   "id": "bf315db2",
   "metadata": {},
   "outputs": [
    {
     "name": "stdout",
     "output_type": "stream",
     "text": [
      "apple\n"
     ]
    }
   ],
   "source": [
    "#Use the correct syntax to print the first item in the fruits tuple.\n",
    "fruits = (\"apple\", \"banana\", \"cherry\")\n",
    "print(fruits[0])"
   ]
  },
  {
   "cell_type": "markdown",
   "id": "78e54ba7",
   "metadata": {},
   "source": [
    "python tuple2"
   ]
  },
  {
   "cell_type": "code",
   "execution_count": 34,
   "id": "7144c863",
   "metadata": {},
   "outputs": [
    {
     "name": "stdout",
     "output_type": "stream",
     "text": [
      "3\n"
     ]
    }
   ],
   "source": [
    "#Use the correct syntax to print the number of items in the fruits tuple.\n",
    "fruits = (\"apple\", \"banana\", \"cherry\")\n",
    "print(len(fruits))"
   ]
  },
  {
   "cell_type": "markdown",
   "id": "37abe545",
   "metadata": {},
   "source": [
    "python tuple3"
   ]
  },
  {
   "cell_type": "code",
   "execution_count": 35,
   "id": "9f37d076",
   "metadata": {},
   "outputs": [
    {
     "name": "stdout",
     "output_type": "stream",
     "text": [
      "cherry\n"
     ]
    }
   ],
   "source": [
    "#Use negative indexing to print the last item in the tuple.\n",
    "fruits = (\"apple\", \"banana\", \"cherry\")\n",
    "print(fruits[-1])"
   ]
  },
  {
   "cell_type": "markdown",
   "id": "79a9feb9",
   "metadata": {},
   "source": [
    "python tuple4"
   ]
  },
  {
   "cell_type": "code",
   "execution_count": 36,
   "id": "71f9b5c1",
   "metadata": {},
   "outputs": [
    {
     "name": "stdout",
     "output_type": "stream",
     "text": [
      "('cherry', 'orange', 'kiwi')\n"
     ]
    }
   ],
   "source": [
    "#Use a range of indexes to print the third, fourth, and fifth item in the tuple.\\\n",
    "\n",
    "fruits = (\"apple\", \"banana\", \"cherry\", \"orange\", \"kiwi\", \"melon\", \"mango\")\n",
    "print(fruits[2:5])"
   ]
  },
  {
   "cell_type": "markdown",
   "id": "b9f73234",
   "metadata": {},
   "source": [
    "python sets1"
   ]
  },
  {
   "cell_type": "code",
   "execution_count": 37,
   "id": "a78ffe28",
   "metadata": {},
   "outputs": [
    {
     "name": "stdout",
     "output_type": "stream",
     "text": [
      "Yes, apple is a fruit!\n"
     ]
    }
   ],
   "source": [
    "#Check if \"apple\" is present in the fruits set.\n",
    "fruits = {\"apple\", \"banana\", \"cherry\"}\n",
    "if \"apple\" in fruits:\n",
    "  print(\"Yes, apple is a fruit!\")"
   ]
  },
  {
   "cell_type": "markdown",
   "id": "35ab33bb",
   "metadata": {},
   "source": [
    "python sets2"
   ]
  },
  {
   "cell_type": "code",
   "execution_count": 38,
   "id": "1259bcf3",
   "metadata": {},
   "outputs": [
    {
     "name": "stdout",
     "output_type": "stream",
     "text": [
      "{'cherry', 'orange', 'banana', 'apple'}\n"
     ]
    }
   ],
   "source": [
    "#Use the add method to add \"orange\" to the fruits set.\n",
    "fruits={\"apple\",\"banana\",\"cherry\"}\n",
    "fruits.add(\"orange\")\n",
    "print(fruits)"
   ]
  },
  {
   "cell_type": "markdown",
   "id": "bb253dbd",
   "metadata": {},
   "source": [
    "python sets3"
   ]
  },
  {
   "cell_type": "code",
   "execution_count": 39,
   "id": "e70114b3",
   "metadata": {},
   "outputs": [
    {
     "name": "stdout",
     "output_type": "stream",
     "text": [
      "{'orange', 'cherry', 'banana', 'apple', 'mango', 'grapes'}\n"
     ]
    }
   ],
   "source": [
    "#Use the correct method to add multiple items (more_fruits) to the fruits set.\n",
    "fruits = {\"apple\", \"banana\", \"cherry\"}\n",
    "more_fruits = [\"orange\", \"mango\", \"grapes\"]\n",
    "fruits.update(more_fruits)\n",
    "print(fruits)"
   ]
  },
  {
   "cell_type": "markdown",
   "id": "8284366f",
   "metadata": {},
   "source": [
    "python sets4"
   ]
  },
  {
   "cell_type": "code",
   "execution_count": 40,
   "id": "2d3175e6",
   "metadata": {},
   "outputs": [
    {
     "name": "stdout",
     "output_type": "stream",
     "text": [
      "{'cherry', 'apple'}\n"
     ]
    }
   ],
   "source": [
    "#Use the remove method to remove \"banana\" from the fruits set.\n",
    "fruits = {\"apple\", \"banana\", \"cherry\"}\n",
    "fruits.remove(\"banana\")\n",
    "print(fruits)"
   ]
  },
  {
   "cell_type": "markdown",
   "id": "a5803c2c",
   "metadata": {},
   "source": [
    "python sets5"
   ]
  },
  {
   "cell_type": "code",
   "execution_count": 41,
   "id": "2a45045e",
   "metadata": {},
   "outputs": [
    {
     "name": "stdout",
     "output_type": "stream",
     "text": [
      "{'cherry', 'apple'}\n"
     ]
    }
   ],
   "source": [
    "#Use the discard method to remove \"banana\" from the fruits set.\n",
    "fruits = {\"apple\", \"banana\", \"cherry\"}\n",
    "fruits.discard(\"banana\")\n",
    "print(fruits)"
   ]
  },
  {
   "cell_type": "markdown",
   "id": "464b18d4",
   "metadata": {},
   "source": [
    "python dictionaries1"
   ]
  },
  {
   "cell_type": "code",
   "execution_count": 42,
   "id": "736b3f80",
   "metadata": {},
   "outputs": [
    {
     "name": "stdout",
     "output_type": "stream",
     "text": [
      "Mustang\n"
     ]
    }
   ],
   "source": [
    "#Use the get method to print the value of the \"model\" key of the car dictionary.\n",
    "car =\t{\n",
    "  \"brand\": \"Ford\",\n",
    "  \"model\": \"Mustang\",\n",
    "  \"year\": 1964\n",
    "}\n",
    "print(car.get(\"model\"))"
   ]
  },
  {
   "cell_type": "markdown",
   "id": "4108b199",
   "metadata": {},
   "source": [
    "python dictionaries2"
   ]
  },
  {
   "cell_type": "code",
   "execution_count": 44,
   "id": "dd99aac5",
   "metadata": {},
   "outputs": [
    {
     "name": "stdout",
     "output_type": "stream",
     "text": [
      "{'brand': 'Ford', 'model': 'Mustang', 'year': 2020}\n"
     ]
    }
   ],
   "source": [
    "#Change the \"year\" value from 1964 to 2020.\n",
    "car =\t{\n",
    "  \"brand\": \"Ford\",\n",
    "  \"model\": \"Mustang\",\n",
    "  \"year\": 1964\n",
    "}\n",
    "car[\"year\"]= 2020\n",
    "print(car)"
   ]
  },
  {
   "cell_type": "markdown",
   "id": "0adf60b8",
   "metadata": {},
   "source": [
    "python dictionaries3"
   ]
  },
  {
   "cell_type": "code",
   "execution_count": 45,
   "id": "40c2d8f6",
   "metadata": {},
   "outputs": [
    {
     "name": "stdout",
     "output_type": "stream",
     "text": [
      "{'brand': 'Ford', 'model': 'Mustang', 'year': 1964, 'color': 'red'}\n"
     ]
    }
   ],
   "source": [
    "#Add the key/value pair \"color\" : \"red\" to the car dictionary.\n",
    "car = {\n",
    "    \"brand\": \"Ford\",\n",
    "    \"model\": \"Mustang\",\n",
    "    \"year\": 1964\n",
    "}\n",
    "car[\"color\"]=\"red\"\n",
    "print(car)"
   ]
  },
  {
   "cell_type": "markdown",
   "id": "5a15c499",
   "metadata": {},
   "source": [
    "python dictionaries4"
   ]
  },
  {
   "cell_type": "code",
   "execution_count": 46,
   "id": "1cc4320f",
   "metadata": {},
   "outputs": [
    {
     "name": "stdout",
     "output_type": "stream",
     "text": [
      "{'brand': 'Ford', 'year': 1964}\n"
     ]
    }
   ],
   "source": [
    "#Use the pop method to remove \"model\" from the car dictionary.\n",
    "car =\t{\n",
    "  \"brand\": \"Ford\",\n",
    "  \"model\": \"Mustang\",\n",
    "  \"year\": 1964\n",
    "}\n",
    "car.pop(\"model\")\n",
    "print(car)"
   ]
  },
  {
   "cell_type": "markdown",
   "id": "4455e253",
   "metadata": {},
   "source": [
    "python dictionaries5"
   ]
  },
  {
   "cell_type": "code",
   "execution_count": 47,
   "id": "7e8efbca",
   "metadata": {},
   "outputs": [
    {
     "name": "stdout",
     "output_type": "stream",
     "text": [
      "{}\n"
     ]
    }
   ],
   "source": [
    "#Use the clear method to empty the car dictionary.\n",
    "car =\t{\n",
    "  \"brand\": \"Ford\",\n",
    "  \"model\": \"Mustang\",\n",
    "  \"year\": 1964\n",
    "}\n",
    "car.clear()\n",
    "print(car)"
   ]
  }
 ],
 "metadata": {
  "kernelspec": {
   "display_name": "Python 3 (ipykernel)",
   "language": "python",
   "name": "python3"
  },
  "language_info": {
   "codemirror_mode": {
    "name": "ipython",
    "version": 3
   },
   "file_extension": ".py",
   "mimetype": "text/x-python",
   "name": "python",
   "nbconvert_exporter": "python",
   "pygments_lexer": "ipython3",
   "version": "3.9.13"
  }
 },
 "nbformat": 4,
 "nbformat_minor": 5
}
