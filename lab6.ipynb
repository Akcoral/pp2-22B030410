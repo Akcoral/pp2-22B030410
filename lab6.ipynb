{
 "cells": [
  {
   "cell_type": "markdown",
   "id": "06cd22e6",
   "metadata": {},
   "source": [
    "builtin-functions"
   ]
  },
  {
   "cell_type": "code",
   "execution_count": null,
   "id": "8e9594b8",
   "metadata": {},
   "outputs": [],
   "source": [
    "#1Write a Python program with builtin function to multiply all the numbers in a list\n",
    "from math import *\n",
    "\n",
    "l = list(map(int, input().split()))\n",
    "\n",
    "print(prod(l))"
   ]
  },
  {
   "cell_type": "code",
   "execution_count": null,
   "id": "b7f7c2eb",
   "metadata": {},
   "outputs": [],
   "source": [
    "#2Write a Python program with builtin function that accepts a string and calculate the number of upper case letters and lower case letters\n",
    "s = input()\n",
    "\n",
    "l = sum([1 for i in s if i.islower()])\n",
    "u = sum([1 for j in s if j.isupper()])\n",
    "\n",
    "\n",
    "print(\"lower\", l)\n",
    "print(\"upper\", u)"
   ]
  },
  {
   "cell_type": "code",
   "execution_count": null,
   "id": "e1f489ae",
   "metadata": {},
   "outputs": [],
   "source": [
    "#3Write a Python program with builtin function that checks whether a passed string is palindrome or not.\n",
    "s = input()\n",
    "\n",
    "p = \"\".join(reversed(s))\n",
    "\n",
    "print(\"palindrome\") if s == p else print(\"not palindrome\")"
   ]
  },
  {
   "cell_type": "code",
   "execution_count": null,
   "id": "f26e6ac0",
   "metadata": {},
   "outputs": [],
   "source": [
    "#4Write a Python program that invoke square root function after specific milliseconds\n",
    "from math import *\n",
    "from time import *\n",
    "\n",
    "n = int(input())\n",
    "ms = int(input())\n",
    "\n",
    "sleep(ms * 10 ** (0 - 3))\n",
    "\n",
    "sq = sqrt(n)\n",
    "\n",
    "print(\"Square root of\", n, \"after\", ms, \"miliseconds is\", sq)"
   ]
  },
  {
   "cell_type": "code",
   "execution_count": null,
   "id": "92f7286f",
   "metadata": {},
   "outputs": [],
   "source": [
    "#5Write a Python program with builtin function that returns True if all elements of the tuple are true.\n",
    "t = tuple(map(int, input().split()))\n",
    "\n",
    "print(all(t))"
   ]
  },
  {
   "cell_type": "markdown",
   "id": "1119bd3a",
   "metadata": {},
   "source": [
    "dir-and-files"
   ]
  },
  {
   "cell_type": "code",
   "execution_count": null,
   "id": "149e8e1d",
   "metadata": {},
   "outputs": [],
   "source": [
    "#1Write a Python program to list only directories, files and all directories, files in a specified path.\n",
    "import os\n",
    "path = input(\"Enter path to checking: \")\n",
    "if os.path.exists(path):\n",
    "    print(f\"{path} существует\")\n",
    "    if os.access(path, os.R_OK):\n",
    "        print(f\"{path} читаемый\")\n",
    "    else:\n",
    "        print(f\"{path} не читаемый\")\n",
    "    if os.access(path, os.W_OK):\n",
    "        print(f\"{path} доступный для записи\")\n",
    "    else:\n",
    "        print(f\"{path} не доступный для записи\")\n",
    "    if os.access(path, os.X_OK):\n",
    "        print(f\"{path} исполняемый\")\n",
    "    else:\n",
    "        print(f\"{path} не исполняемый\")\n",
    "else:\n",
    "    print(f\"{path} не существует\")"
   ]
  },
  {
   "cell_type": "code",
   "execution_count": null,
   "id": "73b97851",
   "metadata": {},
   "outputs": [],
   "source": [
    "#2Write a Python program to check for access to a specified path. Test the existence, readability, writability and executability of the specified path\n",
    "import os \n",
    "path = input()\n",
    "print(\"Exists the path:\", os.access(path, os.F_OK))\n",
    "print(\"Access to read:\", os.access(path, os.R_OK))\n",
    "print(\"Access to write:\", os.access(path, os.W_OK))\n",
    "print(\"Check if path can be executed:\", os.access(path, os.X_OK))"
   ]
  },
  {
   "cell_type": "code",
   "execution_count": null,
   "id": "215f2469",
   "metadata": {},
   "outputs": [],
   "source": [
    "#3Write a Python program to test whether a given path exists or not. If the path exist find the filename and directory portion of the given path.\n",
    "import the\n",
    "path = input(\"Введите путь: \")\n",
    "if  os. path. exists(path):\n",
    "    print(\"Path to directory:\", os. path. dirname(path))\n",
    "    print(\"Directory name:\", os. path. basename(path))\n",
    "else:\n",
    "    print(\"Path does not exist\")"
   ]
  },
  {
   "cell_type": "code",
   "execution_count": null,
   "id": "2105f94b",
   "metadata": {},
   "outputs": [],
   "source": [
    "#4Write a Python program to count the number of lines in a text file.\n",
    "f = \"example.txt\"\n",
    "cnt = 0\n",
    "with open(f, \"r\") as file:\n",
    "    for line in file:\n",
    "        cnt += 1\n",
    "print(\"Number of lines in\", f, \":\", cnt)"
   ]
  },
  {
   "cell_type": "code",
   "execution_count": null,
   "id": "d7cd6814",
   "metadata": {},
   "outputs": [],
   "source": [
    "#5Write a Python program to write a list to a file.\n",
    "a = input().split()\n",
    "open(\"line.txt\", \"x\")\n",
    "f = open(\"line.txt\", \"a\")\n",
    "f.write(str(a))\n",
    "f.close()"
   ]
  },
  {
   "cell_type": "code",
   "execution_count": null,
   "id": "795584b7",
   "metadata": {},
   "outputs": [],
   "source": [
    "#6Write a Python program to generate 26 text files named A.txt, B.txt, and so on up to Z.txt\n",
    "import string\n",
    "l  =  list(string. ascii_uppercase)\n",
    "for letter in l:\n",
    "    n = letter + \".txt\"\n",
    "    with open(n, \"w\") as file:\n",
    "        file. write(\"This is file \"  +  n)"
   ]
  },
  {
   "cell_type": "code",
   "execution_count": null,
   "id": "5903cc54",
   "metadata": {},
   "outputs": [],
   "source": [
    "#7Write a Python program to copy the contents of a file to another file\n",
    "s_file = input(\"Enter the path to the file: \")\n",
    "d_file = input(\"Enter the path to the second file: \")\n",
    "with open(s_file, \"r\") as s, open(d_file, \"w\") as d:\n",
    "    contents  =  s. read()\n",
    "    d. write(contents)\n",
    "print(\"File copied successfully!\")"
   ]
  },
  {
   "cell_type": "code",
   "execution_count": null,
   "id": "564468a4",
   "metadata": {},
   "outputs": [],
   "source": [
    "#8Write a Python program to delete file by specified path. Before deleting check for access and whether a given path exists or not.\n",
    "import the\n",
    "path = input(\"Enter file path: \")\n",
    "if  os. path. exists(path):\n",
    "    if  os. access(path, os. W_OK):\n",
    "        os. remove(path)\n",
    "        print(\"File deleted successfully\")\n",
    "    else:\n",
    "        print(\"You don't have permission to delete the file\")\n",
    "else:\n",
    "    print(\"File does not exist\")"
   ]
  }
 ],
 "metadata": {
  "kernelspec": {
   "display_name": "Python 3 (ipykernel)",
   "language": "python",
   "name": "python3"
  },
  "language_info": {
   "codemirror_mode": {
    "name": "ipython",
    "version": 3
   },
   "file_extension": ".py",
   "mimetype": "text/x-python",
   "name": "python",
   "nbconvert_exporter": "python",
   "pygments_lexer": "ipython3",
   "version": "3.9.13"
  }
 },
 "nbformat": 4,
 "nbformat_minor": 5
}
