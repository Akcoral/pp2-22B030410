{
 "cells": [
  {
   "cell_type": "markdown",
   "id": "d12113f4",
   "metadata": {},
   "source": [
    "Classes"
   ]
  },
  {
   "cell_type": "code",
   "execution_count": 25,
   "id": "5ed75412",
   "metadata": {},
   "outputs": [
    {
     "name": "stdout",
     "output_type": "stream",
     "text": [
      "abc\n",
      "ABC\n"
     ]
    }
   ],
   "source": [
    "#Define a class which has at least two methods: getString: to get a string from console input printString: to print \n",
    "#the string in upper case.\n",
    "class modifystring:\n",
    "    def __init__(self):\n",
    "        self.string = \"\"\n",
    "    def getString(self):\n",
    "        self.string = input()\n",
    "    def printString(self):\n",
    "        print(self.string.upper())\n",
    "\n",
    "k = modifystring()\n",
    "k.getString()\n",
    "k.printString()"
   ]
  },
  {
   "cell_type": "code",
   "execution_count": 7,
   "id": "1fb4aafe",
   "metadata": {},
   "outputs": [
    {
     "name": "stdout",
     "output_type": "stream",
     "text": [
      "4\n",
      "16\n"
     ]
    }
   ],
   "source": [
    "\"\"\"Define a class named Shape and its subclass Square. The Square class has an\n",
    "init function which takes a length as argument. Both classes \n",
    "have a area function which can print the area of the shape where Shape's area is 0 by default.\n",
    "\"\"\"\n",
    "class Shape:\n",
    "    def __init__(self):\n",
    "        self.area = 0\n",
    "\n",
    "    def printarea(self):\n",
    "        print(self.area)\n",
    "\n",
    "\n",
    "class Square(Shape):\n",
    "    def __init__(self, l):\n",
    "        self.lenght = l\n",
    "    def print_area_square(self):\n",
    "        self.area = self.lenght ** 2\n",
    "        print(self.area)\n",
    "        \n",
    "s = Square(int(input()))\n",
    "s.print_area_square()"
   ]
  },
  {
   "cell_type": "code",
   "execution_count": 9,
   "id": "e884c3bb",
   "metadata": {},
   "outputs": [
    {
     "name": "stdout",
     "output_type": "stream",
     "text": [
      "5\n",
      "4\n",
      "20\n"
     ]
    }
   ],
   "source": [
    "\"\"\" Define a class named Rectangle which inherits \n",
    "from Shape class from task 2. Class instance can be\n",
    "constructed by a length and width. The Rectangle class \n",
    "has a method which can compute the area.\"\"\"\n",
    "class Shape:\n",
    "    def __init__(self):\n",
    "        self.area = 0\n",
    "\n",
    "    def printarea(self):\n",
    "        print(self.area)\n",
    "\n",
    "\n",
    "class Square(Shape):\n",
    "    def __init__(self, l):\n",
    "        self.lenght = l\n",
    "    def print_area_square(self):\n",
    "        self.area = self.lenght ** 2\n",
    "        print(self.area)\n",
    "\n",
    "class Rectangle(Shape):\n",
    "    def __init__(self, l, w):\n",
    "        self.lenght = l\n",
    "        self.width = w\n",
    "    def print_area_rectangle(self):\n",
    "        self.area = self.lenght * self.width\n",
    "        print(self.area)\n",
    "        \n",
    "s = Rectangle(int(input()), int(input()))\n",
    "s.print_area_rectangle()"
   ]
  },
  {
   "cell_type": "code",
   "execution_count": 12,
   "id": "99f389a0",
   "metadata": {},
   "outputs": [
    {
     "name": "stdout",
     "output_type": "stream",
     "text": [
      "5\n",
      "4\n",
      "2\n",
      "3\n",
      "x = 5 y = 4\n",
      "1\n",
      "5\n",
      "x = 1 y = 5\n",
      "4.123105625617661\n"
     ]
    }
   ],
   "source": [
    "\"\"\"Write the definition of a Point class. Objects from this class should have a\n",
    " ◦ a method show to display the coordinates of the point\n",
    " ◦ a method move to change these coordinates\n",
    " ◦ a method dist that computes the distance between 2 points\"\"\"\n",
    "class Point:\n",
    "    def __init__(self, a, b):\n",
    "        self.x = a\n",
    "        self.y = b\n",
    "    def show(self):\n",
    "        print(\"x =\", self.x, \"y =\", self.y)\n",
    "    def move(self, k, l):\n",
    "        self.x = k\n",
    "        self.y = l\n",
    "    def dist(self, other):\n",
    "        return ((self.x - other.x) ** 2 + (self.y - other.y) ** 2) ** 0.5\n",
    "A = Point(int(input()), int(input()))\n",
    "B = Point(int(input()), int(input()))\n",
    "A.show()\n",
    "B.move(int(input()), int(input()))\n",
    "B.show()\n",
    "print(A.dist(B))"
   ]
  },
  {
   "cell_type": "code",
   "execution_count": 13,
   "id": "cb630c82",
   "metadata": {},
   "outputs": [
    {
     "name": "stdout",
     "output_type": "stream",
     "text": [
      "Kara\n",
      "50\n",
      "4\n",
      "Your current balance: 54\n",
      "5\n",
      "Your current balance: 59\n",
      "50\n",
      "Your current balance: 9\n",
      "10\n",
      "Insufficient funds on the account\n"
     ]
    },
    {
     "data": {
      "text/plain": [
       "0"
      ]
     },
     "execution_count": 13,
     "metadata": {},
     "output_type": "execute_result"
    }
   ],
   "source": [
    "\"\"\"Create a bank account class that has attributes owner, balance\n",
    "and two methods deposit and withdraw. Withdrawals may not exceed\n",
    "the available balance. Instantiate your class, make several deposits\n",
    "and withdrawals, and test to make sure the account can't be overdrawn.\n",
    "class Account:\n",
    "    pass\"\"\"\n",
    "class Account:\n",
    "    def __init__(self, o, b):\n",
    "        self.owner = o\n",
    "        self.balance = b\n",
    "    def deposit(self, d):\n",
    "        self.balance += d\n",
    "        print(\"Your current balance:\", self.balance)\n",
    "    def withdraw(self, w):\n",
    "        if self.balance - w < 0:\n",
    "            print(\"Insufficient funds on the account\")\n",
    "            return 0\n",
    "        self.balance -= w\n",
    "        print(\"Your current balance:\", self.balance)\n",
    "myaccount = Account(input(), int(input()))\n",
    "myaccount.deposit(int(input()))\n",
    "myaccount.deposit(int(input()))\n",
    "myaccount.withdraw(int(input()))\n",
    "myaccount.withdraw(int(input()))"
   ]
  },
  {
   "cell_type": "code",
   "execution_count": 19,
   "id": "205b883e",
   "metadata": {},
   "outputs": [
    {
     "name": "stdout",
     "output_type": "stream",
     "text": [
      "5 9 11 8 5 4\n",
      "[5, 11, 5]\n"
     ]
    }
   ],
   "source": [
    "\"\"\"Write a program which can filter prime numbers \n",
    "in a list by using filter function. Note: Use lambda \n",
    "to define anonymous functions.\"\"\"\n",
    "def isprime(x):\n",
    "    if x == 0 or x == 1:\n",
    "        return False\n",
    "    for i in range(2, x):\n",
    "        if x % i == 0:\n",
    "            return False\n",
    "    return True\n",
    "nums = input().split()\n",
    "for i in range(0, len(nums)):\n",
    "    nums[i] = int(nums[i])\n",
    "prime_nums = list(filter(lambda x: isprime(x), nums))\n",
    "print(prime_nums)"
   ]
  },
  {
   "cell_type": "markdown",
   "id": "0d5b855f",
   "metadata": {},
   "source": [
    "Function1"
   ]
  },
  {
   "cell_type": "code",
   "execution_count": 20,
   "id": "60ecb0d7",
   "metadata": {},
   "outputs": [
    {
     "name": "stdout",
     "output_type": "stream",
     "text": [
      "4\n",
      "113.3980924\n"
     ]
    }
   ],
   "source": [
    "def convert_grams_to_ounces(gramm):\n",
    "     return 28.3495231 * gramm\n",
    "\n",
    "print(convert_grams_to_ounces(int(input())))"
   ]
  },
  {
   "cell_type": "code",
   "execution_count": 21,
   "id": "e690a316",
   "metadata": {},
   "outputs": [
    {
     "name": "stdout",
     "output_type": "stream",
     "text": [
      "5\n",
      "41.0\n"
     ]
    }
   ],
   "source": [
    "#Read in a Fahrenheit temperature. Calculate and display the equivalent centigrade temperature. C = (5 / 9) * (F – 32)\n",
    "def CtoF(C):\n",
    "    return (9 / 5 * C + 32)\n",
    "\n",
    "print(CtoF(int(input())))"
   ]
  },
  {
   "cell_type": "code",
   "execution_count": 28,
   "id": "7cab15fe",
   "metadata": {},
   "outputs": [
    {
     "name": "stdout",
     "output_type": "stream",
     "text": [
      "35\n",
      "94\n",
      "Rabbits: 12.0\n",
      "Chickens: 23.0\n",
      "None\n"
     ]
    }
   ],
   "source": [
    "\"\"\"Write a program to solve a classic puzzle: We count 35 heads and 94 legs \n",
    "among the chickens and rabbits in a farm. How many rabbits and how many chickens\n",
    "do we have? create function: solve(numheads, numlegs):\"\"\"\n",
    "def solve(numheads, numlegs):\n",
    "    rabbits = numlegs/2 - numheads\n",
    "    chickens = numheads - rabbits\n",
    "    print(\"Rabbits:\", rabbits)\n",
    "    print(\"Chickens:\", chickens)\n",
    "\n",
    "print(solve(int(input()), int(input())))"
   ]
  },
  {
   "cell_type": "code",
   "execution_count": 40,
   "id": "12018f3a",
   "metadata": {},
   "outputs": [
    {
     "name": "stdout",
     "output_type": "stream",
     "text": [
      "5 8 9 4 3\n",
      "[]\n"
     ]
    }
   ],
   "source": [
    "\"\"\" You are given list of numbers separated by spaces. Write a function \n",
    "filter_prime which will take list of numbers as an agrument and returns\n",
    "only prime numbers from the list.\"\"\"\n",
    "\n",
    "def filter_prime(list):\n",
    "    prime = []\n",
    "    pro = True\n",
    "    for i in list:\n",
    "        for j in range(2, i):\n",
    "            if j % 2 == 0:\n",
    "                pro = False\n",
    "                break\n",
    "        if pro:\n",
    "            prime.append(i)\n",
    "        pro = True\n",
    "    return(prime)\n",
    "\n",
    "a = input().split()\n",
    "for i in range (0, len(a)):\n",
    "    a[i] = int(a[i])\n",
    "print(filter_prime(a))"
   ]
  },
  {
   "cell_type": "code",
   "execution_count": 43,
   "id": "aefad5f2",
   "metadata": {},
   "outputs": [
    {
     "name": "stdout",
     "output_type": "stream",
     "text": [
      "abc\n",
      "abc\n",
      "acb\n",
      "bac\n",
      "bca\n",
      "cab\n",
      "cba\n"
     ]
    }
   ],
   "source": [
    "#Write a function that accepts string from user and print all permutations of that string.\n",
    "from itertools import permutations\n",
    "def perm(strg):\n",
    "    for i in list(permutations(strg)):\n",
    "        print(i)\n",
    "a = input().split()\n",
    "perm(a)"
   ]
  },
  {
   "cell_type": "code",
   "execution_count": 53,
   "id": "cb04f828",
   "metadata": {},
   "outputs": [
    {
     "name": "stdout",
     "output_type": "stream",
     "text": [
      "We are ready\n",
      "['ready', 'are', 'We']\n"
     ]
    }
   ],
   "source": [
    "#Write a function that accepts string from user, return a sentence with the words reversed. We are ready -> ready are We\n",
    "def reversed(n):\n",
    "   r=n[::-1]\n",
    "   print(r)\n",
    "a = input().split()\n",
    "reversed(a)"
   ]
  },
  {
   "cell_type": "code",
   "execution_count": 63,
   "id": "18fbebf6",
   "metadata": {},
   "outputs": [
    {
     "name": "stdout",
     "output_type": "stream",
     "text": [
      "True\n",
      "False\n",
      "False\n"
     ]
    }
   ],
   "source": [
    "\"\"\"Given a list of ints, return True if the array contains a 3 next to a 3 somewhere.\n",
    "def has_33(nums):\n",
    "    pass\n",
    "\n",
    "has_33([1, 3, 3]) → True\n",
    "has_33([1, 3, 1, 3]) → False\n",
    "has_33([3, 1, 3]) → False\"\"\"\n",
    "\n",
    "def has_33(nums):\n",
    "    n = \"\"\n",
    "    for i in nums:\n",
    "        n += str(i)\n",
    "    return \"33\" in n\n",
    "\n",
    "print(has_33([1, 3, 3]))\n",
    "print(has_33([1, 3, 1, 3]))\n",
    "print(has_33([3, 1, 3]))"
   ]
  },
  {
   "cell_type": "code",
   "execution_count": 62,
   "id": "aa4060b2",
   "metadata": {},
   "outputs": [
    {
     "name": "stdout",
     "output_type": "stream",
     "text": [
      "True\n",
      "False\n",
      "False\n"
     ]
    }
   ],
   "source": [
    "#\n",
    "def spy_game(nums):\n",
    "    n = \"\"\n",
    "    for i in nums:\n",
    "        n += str(i)\n",
    "    return \"007\" in n\n",
    "\n",
    "print(spy_game([1,2,4,0,0,7,5]))\n",
    "print(spy_game([1,0,2,4,0,5,7]))\n",
    "print(spy_game([1,7,2,0,4,5,0]))"
   ]
  },
  {
   "cell_type": "code",
   "execution_count": 64,
   "id": "9fd1162b",
   "metadata": {},
   "outputs": [
    {
     "name": "stdout",
     "output_type": "stream",
     "text": [
      "4\n",
      "267.94666666666666\n"
     ]
    }
   ],
   "source": [
    "#Write a function that computes the volume of a sphere given its radius.\n",
    "def volume(R):\n",
    "    return 4/3 * 3.14 * R**3\n",
    "print(volume(int(input())))"
   ]
  },
  {
   "cell_type": "code",
   "execution_count": 82,
   "id": "38434e0d",
   "metadata": {},
   "outputs": [
    {
     "name": "stdout",
     "output_type": "stream",
     "text": [
      "8 7 5 4 8 7 5 7 8\n",
      "['8']\n"
     ]
    }
   ],
   "source": [
    "def unique(nums):\n",
    "    sorted(nums)\n",
    "    new = [nums[0]]\n",
    "    for i in range(1, len(nums)):\n",
    "        if nums[i-1] == nums[i]:\n",
    "            new += nums[i]\n",
    "    return new\n",
    "\n",
    "print(unique(input().split()))"
   ]
  },
  {
   "cell_type": "code",
   "execution_count": 77,
   "id": "c571afb0",
   "metadata": {},
   "outputs": [
    {
     "name": "stdout",
     "output_type": "stream",
     "text": [
      "anlsslna\n",
      "palindrome\n"
     ]
    }
   ],
   "source": [
    "def check_palindrome(x):\n",
    "    for i in range(0, len(x)):\n",
    "        if x[i] == x[len(x) - i - 1]:\n",
    "            return \"palindrome\"\n",
    "    return \"not palindrome\"\n",
    "print(check_palindrome(input()))"
   ]
  },
  {
   "cell_type": "code",
   "execution_count": 83,
   "id": "d7c3fc17",
   "metadata": {},
   "outputs": [
    {
     "name": "stdout",
     "output_type": "stream",
     "text": [
      "4 7 9\n",
      "****\n",
      "*******\n",
      "*********\n"
     ]
    }
   ],
   "source": [
    "\"\"\"Define a functino histogram() that takes a list of integers and prints a histogram \n",
    "to the screen. For example, histogram([4, 9, 7]) should print the following:\n",
    "****\n",
    "*****\n",
    "***\"\"\"\n",
    "def histogram(n):\n",
    "    for i in n:\n",
    "        print(\"*\" * int(i))\n",
    "histogram(input().split())"
   ]
  },
  {
   "cell_type": "code",
   "execution_count": 93,
   "id": "f45f1134",
   "metadata": {},
   "outputs": [
    {
     "name": "stdout",
     "output_type": "stream",
     "text": [
      "Hello! What is your name?\n",
      "KBTU\n",
      "Well, KBTU  I am thinking of a number between 1 and 20.\n",
      "Take a guess\n",
      "15\n",
      "Your guess is too high.\n",
      "Take a guess\n",
      "14\n",
      "Your guess is too high.\n",
      "Take a guess\n",
      "12\n",
      "Your guess is too high.\n",
      "Take a guess\n",
      "6\n",
      "Your guess is too high.\n",
      "Take a guess\n",
      "4\n",
      "Your guess is too low.\n",
      "Take a guess\n",
      "5\n",
      "Good job,  KBTU  You guessed my number in  6  guesses!\n"
     ]
    }
   ],
   "source": [
    "import random\n",
    "def guess_the_number():\n",
    "    print(\"Hello! What is your name?\")\n",
    "    n = input()\n",
    "    print(\"Well,\", n, \" I am thinking of a number between 1 and 20.\")\n",
    "    l = random.randint(1, 20)\n",
    "    k = 0\n",
    "    j = 0\n",
    "    while k != l:\n",
    "        j += 1\n",
    "        print(\"Take a guess\")\n",
    "        k = int(input())\n",
    "        if k < l:\n",
    "            print(\"Your guess is too low.\")\n",
    "        elif (k > l):\n",
    "            print(\"Your guess is too high.\")\n",
    "    print(\"Good job, \", n, \" You guessed my number in \", j, \" guesses!\")\n",
    "\n",
    "guess_the_number()"
   ]
  },
  {
   "cell_type": "markdown",
   "id": "3e51cf0e",
   "metadata": {},
   "source": [
    "functions2"
   ]
  },
  {
   "cell_type": "code",
   "execution_count": 12,
   "id": "98f48363",
   "metadata": {},
   "outputs": [
    {
     "name": "stdout",
     "output_type": "stream",
     "text": [
      "Detective\n",
      "True\n"
     ]
    }
   ],
   "source": [
    "movies = [\n",
    "{\n",
    "\"name\": \"Usual Suspects\",\n",
    "\"imdb\": 7.0,\n",
    "\"category\": \"Thriller\"\n",
    "},\n",
    "{\n",
    "\"name\": \"Hitman\",\n",
    "\"imdb\": 6.3,\n",
    "\"category\": \"Action\"\n",
    "},\n",
    "{\n",
    "\"name\": \"Dark Knight\",\n",
    "\"imdb\": 9.0,\n",
    "\"category\": \"Adventure\"\n",
    "},\n",
    "{\n",
    "\"name\": \"The Help\",\n",
    "\"imdb\": 8.0,\n",
    "\"category\": \"Drama\"\n",
    "},\n",
    "{\n",
    "\"name\": \"The Choice\",\n",
    "\"imdb\": 6.2,\n",
    "\"category\": \"Romance\"\n",
    "},\n",
    "{\n",
    "\"name\": \"Colonia\",\n",
    "\"imdb\": 7.4,\n",
    "\"category\": \"Romance\"\n",
    "},\n",
    "{\n",
    "\"name\": \"Love\",\n",
    "\"imdb\": 6.0,\n",
    "\"category\": \"Romance\"\n",
    "},\n",
    "{\n",
    "\"name\": \"Bride Wars\",\n",
    "\"imdb\": 5.4,\n",
    "\"category\": \"Romance\"\n",
    "},\n",
    "{\n",
    "\"name\": \"AlphaJet\",\n",
    "\"imdb\": 3.2,\n",
    "\"category\": \"War\"\n",
    "},\n",
    "{\n",
    "\"name\": \"Ringing Crime\",\n",
    "\"imdb\": 4.0,\n",
    "\"category\": \"Crime\"\n",
    "},\n",
    "{\n",
    "\"name\": \"Joking muck\",\n",
    "\"imdb\": 7.2,\n",
    "\"category\": \"Comedy\"\n",
    "},\n",
    "{\n",
    "\"name\": \"What is the name\",\n",
    "\"imdb\": 9.2,\n",
    "\"category\": \"Suspense\"\n",
    "},\n",
    "{\n",
    "\"name\": \"Detective\",\n",
    "\"imdb\": 7.0,\n",
    "\"category\": \"Suspense\"\n",
    "},\n",
    "{\n",
    "\"name\": \"Exam\",\n",
    "\"imdb\": 4.2,\n",
    "\"category\": \"Thriller\"\n",
    "},\n",
    "{\n",
    "\"name\": \"We Two\",\n",
    "\"imdb\": 7.2,\n",
    "\"category\": \"Romance\"\n",
    "}\n",
    "]\n",
    "#task1-Write a function that takes a single movie and returns True if its IMDB score is above 5.5\n",
    "def checkmore55(x):\n",
    "    for i in movies:\n",
    "        if i['name'] == x and i['imdb'] > 5.5:\n",
    "            return True\n",
    "    return False\n",
    "\n",
    "print(checkmore55(input()))"
   ]
  },
  {
   "cell_type": "code",
   "execution_count": 13,
   "id": "ee30c58e",
   "metadata": {},
   "outputs": [
    {
     "name": "stdout",
     "output_type": "stream",
     "text": [
      "[{'name': 'Usual Suspects', 'imdb': 7.0, 'category': 'Thriller'}, {'name': 'Hitman', 'imdb': 6.3, 'category': 'Action'}, {'name': 'Dark Knight', 'imdb': 9.0, 'category': 'Adventure'}, {'name': 'The Help', 'imdb': 8.0, 'category': 'Drama'}, {'name': 'The Choice', 'imdb': 6.2, 'category': 'Romance'}, {'name': 'Colonia', 'imdb': 7.4, 'category': 'Romance'}, {'name': 'Love', 'imdb': 6.0, 'category': 'Romance'}, {'name': 'Joking muck', 'imdb': 7.2, 'category': 'Comedy'}, {'name': 'What is the name', 'imdb': 9.2, 'category': 'Suspense'}, {'name': 'Detective', 'imdb': 7.0, 'category': 'Suspense'}, {'name': 'We Two', 'imdb': 7.2, 'category': 'Romance'}]\n"
     ]
    }
   ],
   "source": [
    "#task2-Write a function that returns a sublist of movies with an IMDB score above 5.5.\n",
    "def allmore55():\n",
    "    newmovies = []\n",
    "    for i in movies:\n",
    "        if i['imdb'] > 5.5:\n",
    "            newmovies.append(i);\n",
    "    return newmovies\n",
    "print(allmore55())"
   ]
  },
  {
   "cell_type": "code",
   "execution_count": 15,
   "id": "0bf09eb1",
   "metadata": {},
   "outputs": [
    {
     "name": "stdout",
     "output_type": "stream",
     "text": [
      "Comedy\n",
      "['Joking muck']\n"
     ]
    }
   ],
   "source": [
    "#task3-Write a function that takes a category name and returns just those movies under that category.\n",
    "def samecategory(x):\n",
    "    allfilms = []\n",
    "    for i in movies:\n",
    "        if i['category'] == x:\n",
    "            allfilms.append(i['name']);\n",
    "    return allfilms\n",
    "print(samecategory(input()))"
   ]
  },
  {
   "cell_type": "code",
   "execution_count": 16,
   "id": "92b6146a",
   "metadata": {},
   "outputs": [
    {
     "name": "stdout",
     "output_type": "stream",
     "text": [
      "7.8\n"
     ]
    }
   ],
   "source": [
    "#task4-Write a function that takes a list of movies and computes the average IMDB score.\n",
    "def averageball_fromfilms(x):\n",
    "    averageball = 0\n",
    "    for i in movies:\n",
    "        if i['name'] in x:\n",
    "            averageball += i['imdb'];\n",
    "    return averageball/len(x)\n",
    "print(averageball_fromfilms([\"Detective\", \"We Two\", \"What is the name\"]))"
   ]
  },
  {
   "cell_type": "code",
   "execution_count": 34,
   "id": "ddf47a0d",
   "metadata": {},
   "outputs": [
    {
     "name": "stdout",
     "output_type": "stream",
     "text": [
      "Thriller\n",
      "5.6\n"
     ]
    }
   ],
   "source": [
    "#task5-Write a function that takes a category and computes the average IMDB score.\n",
    "def averageball_fromcategory(x):\n",
    "    averageball = 0\n",
    "    n=0\n",
    "    for i in movies:\n",
    "        if i['category'] == x:\n",
    "            averageball += i['imdb'];\n",
    "            n+=1\n",
    "    return averageball/n\n",
    "print(averageball_fromcategory(input()))"
   ]
  }
 ],
 "metadata": {
  "kernelspec": {
   "display_name": "Python 3 (ipykernel)",
   "language": "python",
   "name": "python3"
  },
  "language_info": {
   "codemirror_mode": {
    "name": "ipython",
    "version": 3
   },
   "file_extension": ".py",
   "mimetype": "text/x-python",
   "name": "python",
   "nbconvert_exporter": "python",
   "pygments_lexer": "ipython3",
   "version": "3.9.13"
  }
 },
 "nbformat": 4,
 "nbformat_minor": 5
}
