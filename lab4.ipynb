{
 "cells": [
  {
   "cell_type": "markdown",
   "id": "f3cf8815",
   "metadata": {},
   "source": [
    "date"
   ]
  },
  {
   "cell_type": "code",
   "execution_count": 1,
   "id": "2a4fe20d",
   "metadata": {},
   "outputs": [
    {
     "name": "stdout",
     "output_type": "stream",
     "text": [
      "2023-02-17 22:46:52.177359\n"
     ]
    }
   ],
   "source": [
    "#Write a Python program to subtract five days from current date.\n",
    "import datetime\n",
    "def minus5day():\n",
    "    print(datetime.datetime.now() - datetime.timedelta(days = 5))\n",
    "minus5day()"
   ]
  },
  {
   "cell_type": "code",
   "execution_count": 24,
   "id": "3123b5e1",
   "metadata": {},
   "outputs": [],
   "source": [
    "#Write a Python program to print yesterday, today, tomorrow.\n",
    "import datetime\n",
    "def today():\n",
    "    print(datetime.datetime.now())\n",
    "def yesterday():\n",
    "    print(datetime.datetime.now() - datetime.timedelta(days=1))\n",
    "def tommorow():\n",
    "    print(datetime.datetime.now() + datetime.timedelta(days=1))"
   ]
  },
  {
   "cell_type": "code",
   "execution_count": 4,
   "id": "e7ffc540",
   "metadata": {},
   "outputs": [
    {
     "name": "stdout",
     "output_type": "stream",
     "text": [
      "2023-02-22 22:49:18.256090\n"
     ]
    }
   ],
   "source": [
    "#Write a Python program to drop microseconds from datetime.\n",
    "import datetime\n",
    "def minusmicrosec():\n",
    "    print(datetime.datetime.now() - datetime.timedelta(microseconds = 1))\n",
    "minusmicrosec()"
   ]
  },
  {
   "cell_type": "code",
   "execution_count": 8,
   "id": "72bd59e3",
   "metadata": {},
   "outputs": [
    {
     "name": "stdout",
     "output_type": "stream",
     "text": [
      "14/08/2005, 14:14:14\n",
      "22/02/2023, 11:27:43\n",
      "-553036409.0\n"
     ]
    }
   ],
   "source": [
    "#Write a Python program to calculate two date difference in seconds.\n",
    "import datetime\n",
    "def dif_2days_in_sec(datetime1, datetime2):\n",
    "    difdate = datetime.datetime.now()\n",
    "    difdate = datetime1 - datetime2\n",
    "    print(difdate.total_seconds())\n",
    "datetime1 = datetime.datetime.strptime(input(), '%d/%m/%Y, %H:%M:%S')\n",
    "datetime2 = datetime.datetime.strptime(input(), '%d/%m/%Y, %H:%M:%S')\n",
    "dif_2days_in_sec(datetime1, datetime2)"
   ]
  },
  {
   "cell_type": "markdown",
   "id": "c6f6a6e8",
   "metadata": {},
   "source": [
    "generators"
   ]
  },
  {
   "cell_type": "code",
   "execution_count": 9,
   "id": "aedb3cdf",
   "metadata": {},
   "outputs": [
    {
     "name": "stdout",
     "output_type": "stream",
     "text": [
      "4\n",
      "0\n",
      "1\n",
      "4\n",
      "9\n"
     ]
    }
   ],
   "source": [
    "#Create a generator that generates the squares of numbers up to some number N\n",
    "for i in (i**2 for i in range(int(input()))):\n",
    "    print(i)"
   ]
  },
  {
   "cell_type": "code",
   "execution_count": 10,
   "id": "8f39b25b",
   "metadata": {},
   "outputs": [
    {
     "name": "stdout",
     "output_type": "stream",
     "text": [
      "15\n",
      "0, 2, 4, 6, 8, 10, 12, 14, "
     ]
    }
   ],
   "source": [
    "#Write a program using generator to print the even numbers between 0 and n in comma separated form where n is input from console.\n",
    "for i in (i for i in range(0, int(input()) + 1, 2)):\n",
    "    print(i, end= \", \")"
   ]
  },
  {
   "cell_type": "code",
   "execution_count": 11,
   "id": "60d1c105",
   "metadata": {},
   "outputs": [
    {
     "name": "stdout",
     "output_type": "stream",
     "text": [
      "50\n",
      "12\n",
      "24\n",
      "36\n",
      "48\n"
     ]
    }
   ],
   "source": [
    "#Define a function with a generator which can iterate the numbers, which are divisible by 3 and 4, between a given range 0 and n.\n",
    "def gen_div3and4(n):\n",
    "    for i in range (1, n):\n",
    "        if i % 12 == 0:\n",
    "            yield i\n",
    "\n",
    "a = gen_div3and4(int(input()))\n",
    "for i in a:\n",
    "    print(i)"
   ]
  },
  {
   "cell_type": "code",
   "execution_count": 14,
   "id": "4c798876",
   "metadata": {},
   "outputs": [
    {
     "name": "stdout",
     "output_type": "stream",
     "text": [
      "9\n",
      "12\n",
      "81\n",
      "100\n",
      "121\n",
      "144\n"
     ]
    }
   ],
   "source": [
    "#Implement a generator called squares to yield the square of all numbers from (a) to (b). Test it with a \"for\" loop and print each of the yielded values.\n",
    "for i in (i**2 for i in range(int(input()), int(input()) + 1)):\n",
    "    print(i)"
   ]
  },
  {
   "cell_type": "code",
   "execution_count": 17,
   "id": "afe7d7a0",
   "metadata": {},
   "outputs": [
    {
     "name": "stdout",
     "output_type": "stream",
     "text": [
      "8\n",
      "8\n",
      "7\n",
      "6\n",
      "5\n",
      "4\n",
      "3\n",
      "2\n",
      "1\n",
      "0\n"
     ]
    }
   ],
   "source": [
    "#Implement a generator that returns all numbers from (n) down to 0.\n",
    "for i in (i for i in range(int(input()), -1, -1)):\n",
    "    print(i)"
   ]
  },
  {
   "cell_type": "markdown",
   "id": "da3253d0",
   "metadata": {},
   "source": [
    "math"
   ]
  },
  {
   "cell_type": "code",
   "execution_count": 20,
   "id": "b06338c6",
   "metadata": {},
   "outputs": [
    {
     "name": "stdout",
     "output_type": "stream",
     "text": [
      "15\n",
      "0.2617993877991494\n"
     ]
    }
   ],
   "source": [
    "#Write a Python program to convert degree to radian.\n",
    "import math\n",
    "print(math.radians(int(input())))"
   ]
  },
  {
   "cell_type": "code",
   "execution_count": 21,
   "id": "388c6df7",
   "metadata": {},
   "outputs": [
    {
     "name": "stdout",
     "output_type": "stream",
     "text": [
      "Height: 5\n",
      "Base, first value: 5\n",
      "Base, second value: 6\n",
      "27.5\n"
     ]
    }
   ],
   "source": [
    "#Write a Python program to calculate the area of a trapezoid.\n",
    "print(int(input(\"Height: \")) * 0.5 * (int(input(\"Base, first value: \")) +int(input(\"Base, second value: \"))))"
   ]
  },
  {
   "cell_type": "code",
   "execution_count": 22,
   "id": "f7b2f4d1",
   "metadata": {},
   "outputs": [
    {
     "name": "stdout",
     "output_type": "stream",
     "text": [
      "number of sides: 4\n",
      "the length of a side: 25\n",
      "100.00000000000001\n"
     ]
    }
   ],
   "source": [
    "#Write a Python program to calculate the area of regular polygon.\n",
    "import math\n",
    "n = int(input(\"number of sides: \"))\n",
    "length = int(input(\"the length of a side: \"))\n",
    "print(0.25 * (n**2) * length / math.tan(math.radians(180/n)))"
   ]
  },
  {
   "cell_type": "code",
   "execution_count": 23,
   "id": "c96d3dae",
   "metadata": {},
   "outputs": [
    {
     "name": "stdout",
     "output_type": "stream",
     "text": [
      "Length of base: 5\n",
      "Height of parallelogram: 6\n",
      "30\n"
     ]
    }
   ],
   "source": [
    "#Write a Python program to calculate the area of a parallelogram.\n",
    "print(int(input(\"Length of base: \")) * int(input(\"Height of parallelogram: \")))"
   ]
  }
 ],
 "metadata": {
  "kernelspec": {
   "display_name": "Python 3 (ipykernel)",
   "language": "python",
   "name": "python3"
  },
  "language_info": {
   "codemirror_mode": {
    "name": "ipython",
    "version": 3
   },
   "file_extension": ".py",
   "mimetype": "text/x-python",
   "name": "python",
   "nbconvert_exporter": "python",
   "pygments_lexer": "ipython3",
   "version": "3.9.13"
  }
 },
 "nbformat": 4,
 "nbformat_minor": 5
}
